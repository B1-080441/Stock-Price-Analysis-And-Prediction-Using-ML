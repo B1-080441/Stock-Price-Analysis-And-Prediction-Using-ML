{
 "cells": [
  {
   "cell_type": "markdown",
   "id": "22e63265-1166-47af-9bd2-f85a4f325b6e",
   "metadata": {},
   "source": [
    "# Reliance Stock Prediction"
   ]
  },
  {
   "cell_type": "markdown",
   "id": "44015229-4c40-49a0-9587-ce38c3b96291",
   "metadata": {},
   "source": [
    "## dependent variable = Close Price"
   ]
  },
  {
   "cell_type": "markdown",
   "id": "e0792e0c-ed3b-4e6c-a96f-6af458814a77",
   "metadata": {},
   "source": [
    "### 1. Import required packages"
   ]
  },
  {
   "cell_type": "code",
   "execution_count": 13,
   "id": "c3a9f895-216a-4d5d-95c7-9025696f800c",
   "metadata": {},
   "outputs": [
    {
     "data": {
      "text/html": [
       "        <script type=\"text/javascript\">\n",
       "        window.PlotlyConfig = {MathJaxConfig: 'local'};\n",
       "        if (window.MathJax && window.MathJax.Hub && window.MathJax.Hub.Config) {window.MathJax.Hub.Config({SVG: {font: \"STIX-Web\"}});}\n",
       "        if (typeof require !== 'undefined') {\n",
       "        require.undef(\"plotly\");\n",
       "        requirejs.config({\n",
       "            paths: {\n",
       "                'plotly': ['https://cdn.plot.ly/plotly-2.26.0.min']\n",
       "            }\n",
       "        });\n",
       "        require(['plotly'], function(Plotly) {\n",
       "            window._Plotly = Plotly;\n",
       "        });\n",
       "        }\n",
       "        </script>\n",
       "        "
      ]
     },
     "metadata": {},
     "output_type": "display_data"
    }
   ],
   "source": [
    "import pandas as pd\n",
    "import numpy as np\n",
    "import matplotlib.pyplot as plt\n",
    "\n",
    "\n",
    "import chart_studio.plotly as py\n",
    "import plotly.graph_objs as go\n",
    "from plotly.offline import plot\n",
    "\n",
    "#for offline plotting\n",
    "from plotly.offline import download_plotlyjs, init_notebook_mode, plot, iplot\n",
    "init_notebook_mode(connected=True) "
   ]
  },
  {
   "cell_type": "markdown",
   "id": "83d49bac-26bb-448f-9a86-88863b6bbf1c",
   "metadata": {},
   "source": [
    "### 2. Read the data from the source"
   ]
  },
  {
   "cell_type": "code",
   "execution_count": 14,
   "id": "f75c6ea8-9e94-48ed-aee6-62feb0e642c2",
   "metadata": {},
   "outputs": [],
   "source": [
    "df = pd.read_csv('reliance_stock_data_(1990-2023).csv')"
   ]
  },
  {
   "cell_type": "code",
   "execution_count": 15,
   "id": "ab28c4b3-416f-4bd8-9517-c8aba3f00297",
   "metadata": {},
   "outputs": [
    {
     "data": {
      "text/html": [
       "<div>\n",
       "<style scoped>\n",
       "    .dataframe tbody tr th:only-of-type {\n",
       "        vertical-align: middle;\n",
       "    }\n",
       "\n",
       "    .dataframe tbody tr th {\n",
       "        vertical-align: top;\n",
       "    }\n",
       "\n",
       "    .dataframe thead th {\n",
       "        text-align: right;\n",
       "    }\n",
       "</style>\n",
       "<table border=\"1\" class=\"dataframe\">\n",
       "  <thead>\n",
       "    <tr style=\"text-align: right;\">\n",
       "      <th></th>\n",
       "      <th>Date</th>\n",
       "      <th>Price</th>\n",
       "      <th>Open</th>\n",
       "      <th>High</th>\n",
       "      <th>Low</th>\n",
       "      <th>Volume</th>\n",
       "      <th>Change%</th>\n",
       "    </tr>\n",
       "  </thead>\n",
       "  <tbody>\n",
       "    <tr>\n",
       "      <th>0</th>\n",
       "      <td>Nov 03 2023</td>\n",
       "      <td>2319.70</td>\n",
       "      <td>2327.20</td>\n",
       "      <td>2334.95</td>\n",
       "      <td>2315.75</td>\n",
       "      <td>4.43M</td>\n",
       "      <td>-0.02%</td>\n",
       "    </tr>\n",
       "    <tr>\n",
       "      <th>1</th>\n",
       "      <td>Nov 02 2023</td>\n",
       "      <td>2320.20</td>\n",
       "      <td>2313.95</td>\n",
       "      <td>2324.30</td>\n",
       "      <td>2307.95</td>\n",
       "      <td>5.28M</td>\n",
       "      <td>0.99%</td>\n",
       "    </tr>\n",
       "    <tr>\n",
       "      <th>2</th>\n",
       "      <td>Nov 01 2023</td>\n",
       "      <td>2297.40</td>\n",
       "      <td>2289.15</td>\n",
       "      <td>2317.50</td>\n",
       "      <td>2275.20</td>\n",
       "      <td>5.15M</td>\n",
       "      <td>0.42%</td>\n",
       "    </tr>\n",
       "    <tr>\n",
       "      <th>3</th>\n",
       "      <td>Oct 31 2023</td>\n",
       "      <td>2287.90</td>\n",
       "      <td>2328.00</td>\n",
       "      <td>2328.00</td>\n",
       "      <td>2282.90</td>\n",
       "      <td>6.40M</td>\n",
       "      <td>-1.06%</td>\n",
       "    </tr>\n",
       "    <tr>\n",
       "      <th>4</th>\n",
       "      <td>Oct 30 2023</td>\n",
       "      <td>2312.50</td>\n",
       "      <td>2274.00</td>\n",
       "      <td>2325.00</td>\n",
       "      <td>2269.95</td>\n",
       "      <td>8.41M</td>\n",
       "      <td>2.06%</td>\n",
       "    </tr>\n",
       "    <tr>\n",
       "      <th>5</th>\n",
       "      <td>Oct 27 2023</td>\n",
       "      <td>2265.80</td>\n",
       "      <td>2240.00</td>\n",
       "      <td>2273.50</td>\n",
       "      <td>2235.95</td>\n",
       "      <td>5.89M</td>\n",
       "      <td>1.77%</td>\n",
       "    </tr>\n",
       "    <tr>\n",
       "      <th>6</th>\n",
       "      <td>Oct 26 2023</td>\n",
       "      <td>2226.50</td>\n",
       "      <td>2251.00</td>\n",
       "      <td>2258.00</td>\n",
       "      <td>2220.30</td>\n",
       "      <td>7.61M</td>\n",
       "      <td>-1.39%</td>\n",
       "    </tr>\n",
       "    <tr>\n",
       "      <th>7</th>\n",
       "      <td>Oct 25 2023</td>\n",
       "      <td>2257.95</td>\n",
       "      <td>2250.05</td>\n",
       "      <td>2281.20</td>\n",
       "      <td>2243.00</td>\n",
       "      <td>5.81M</td>\n",
       "      <td>-0.23%</td>\n",
       "    </tr>\n",
       "    <tr>\n",
       "      <th>8</th>\n",
       "      <td>Oct 23 2023</td>\n",
       "      <td>2263.20</td>\n",
       "      <td>2290.00</td>\n",
       "      <td>2306.25</td>\n",
       "      <td>2255.25</td>\n",
       "      <td>3.93M</td>\n",
       "      <td>-1.56%</td>\n",
       "    </tr>\n",
       "    <tr>\n",
       "      <th>9</th>\n",
       "      <td>Oct 20 2023</td>\n",
       "      <td>2299.10</td>\n",
       "      <td>2300.00</td>\n",
       "      <td>2314.70</td>\n",
       "      <td>2296.30</td>\n",
       "      <td>4.46M</td>\n",
       "      <td>-0.31%</td>\n",
       "    </tr>\n",
       "  </tbody>\n",
       "</table>\n",
       "</div>"
      ],
      "text/plain": [
       "          Date    Price     Open     High      Low  Volume  Change%\n",
       "0  Nov 03 2023  2319.70  2327.20  2334.95  2315.75   4.43M   -0.02%\n",
       "1  Nov 02 2023  2320.20  2313.95  2324.30  2307.95   5.28M    0.99%\n",
       "2  Nov 01 2023  2297.40  2289.15  2317.50  2275.20   5.15M    0.42%\n",
       "3  Oct 31 2023  2287.90  2328.00  2328.00  2282.90   6.40M   -1.06%\n",
       "4  Oct 30 2023  2312.50  2274.00  2325.00  2269.95   8.41M    2.06%\n",
       "5  Oct 27 2023  2265.80  2240.00  2273.50  2235.95   5.89M    1.77%\n",
       "6  Oct 26 2023  2226.50  2251.00  2258.00  2220.30   7.61M   -1.39%\n",
       "7  Oct 25 2023  2257.95  2250.05  2281.20  2243.00   5.81M   -0.23%\n",
       "8  Oct 23 2023  2263.20  2290.00  2306.25  2255.25   3.93M   -1.56%\n",
       "9  Oct 20 2023  2299.10  2300.00  2314.70  2296.30   4.46M   -0.31%"
      ]
     },
     "execution_count": 15,
     "metadata": {},
     "output_type": "execute_result"
    }
   ],
   "source": [
    "df.head(10)"
   ]
  },
  {
   "cell_type": "code",
   "execution_count": 16,
   "id": "b65fe668-af76-4449-be4a-d74482a3f639",
   "metadata": {},
   "outputs": [],
   "source": [
    "df = df.rename(columns={' Open': 'Open', ' High': 'High', ' Low': 'Low', ' Volume':'Volume',' Change%':'Change%'})"
   ]
  },
  {
   "cell_type": "markdown",
   "id": "5d7bb77c-3fe5-4479-a02f-b5096c123436",
   "metadata": {},
   "source": [
    "df.isna().sum()"
   ]
  },
  {
   "cell_type": "code",
   "execution_count": 17,
   "id": "a723f2e4-2b4b-4170-aa97-a9bc82ae5b28",
   "metadata": {},
   "outputs": [],
   "source": [
    "df = df.dropna()"
   ]
  },
  {
   "cell_type": "code",
   "execution_count": 18,
   "id": "91cf8bd3-526b-4d05-98dc-224d3825a2c4",
   "metadata": {},
   "outputs": [
    {
     "data": {
      "text/plain": [
       "Date       0\n",
       "Price      0\n",
       "Open       0\n",
       "High       0\n",
       "Low        0\n",
       "Volume     0\n",
       "Change%    0\n",
       "dtype: int64"
      ]
     },
     "execution_count": 18,
     "metadata": {},
     "output_type": "execute_result"
    }
   ],
   "source": [
    "df.isna().sum()"
   ]
  },
  {
   "cell_type": "code",
   "execution_count": 19,
   "id": "4c577a28-d0bf-4455-9c2f-957df3d2c1dc",
   "metadata": {},
   "outputs": [
    {
     "name": "stdout",
     "output_type": "stream",
     "text": [
      "<class 'pandas.core.frame.DataFrame'>\n",
      "Index: 8148 entries, 0 to 8150\n",
      "Data columns (total 7 columns):\n",
      " #   Column   Non-Null Count  Dtype  \n",
      "---  ------   --------------  -----  \n",
      " 0   Date     8148 non-null   object \n",
      " 1   Price    8148 non-null   float64\n",
      " 2   Open     8148 non-null   float64\n",
      " 3   High     8148 non-null   float64\n",
      " 4   Low      8148 non-null   float64\n",
      " 5   Volume   8148 non-null   object \n",
      " 6   Change%  8148 non-null   object \n",
      "dtypes: float64(4), object(3)\n",
      "memory usage: 509.2+ KB\n"
     ]
    }
   ],
   "source": [
    "df.info()"
   ]
  },
  {
   "cell_type": "code",
   "execution_count": 20,
   "id": "874e051f-9578-47ab-ad3f-4a45a0a43868",
   "metadata": {},
   "outputs": [
    {
     "name": "stdout",
     "output_type": "stream",
     "text": [
      "            Date    Price     Open     High      Low Volume Change%\n",
      "0     2023-11-03  2319.70  2327.20  2334.95  2315.75  4.43M  -0.02%\n",
      "1     2023-11-02  2320.20  2313.95  2324.30  2307.95  5.28M   0.99%\n",
      "2     2023-11-01  2297.40  2289.15  2317.50  2275.20  5.15M   0.42%\n",
      "3     2023-10-31  2287.90  2328.00  2328.00  2282.90  6.40M  -1.06%\n",
      "4     2023-10-30  2312.50  2274.00  2325.00  2269.95  8.41M   2.06%\n",
      "...          ...      ...      ...      ...      ...    ...     ...\n",
      "8146  1990-01-08     6.71     7.05     7.05     6.67      0   0.00%\n",
      "8147  1990-01-05     6.71     6.37     6.71     6.37      0   3.23%\n",
      "8148  1990-01-04     6.50     6.24     6.58     6.24      0  -6.07%\n",
      "8149  1990-01-03     6.92     7.18     7.18     6.84      0  -4.81%\n",
      "8150  1990-01-02     7.27     7.31     7.44     7.14      0  -1.62%\n",
      "\n",
      "[8148 rows x 7 columns]\n"
     ]
    }
   ],
   "source": [
    "# Convert the 'Date' column to the desired format\n",
    "df['Date'] = pd.to_datetime(df['Date'], format='%b %d %Y').dt.strftime('%Y-%m-%d')\n",
    "\n",
    "# Print the DataFrame\n",
    "print(df)"
   ]
  },
  {
   "cell_type": "code",
   "execution_count": 21,
   "id": "28433cca-0848-4edf-aeb1-b62e6b6b2fe4",
   "metadata": {},
   "outputs": [
    {
     "name": "stdout",
     "output_type": "stream",
     "text": [
      "Total number of days: 12358 days\n"
     ]
    }
   ],
   "source": [
    "# Convert the 'Date' column to datetime if it's not already\n",
    "df['Date'] = pd.to_datetime(df['Date'])\n",
    "\n",
    "# Calculate the total number of days\n",
    "total_days = (df['Date'].max() - df['Date'].min()).days\n",
    "\n",
    "print(f\"Total number of days: {total_days} days\")\n"
   ]
  },
  {
   "cell_type": "code",
   "execution_count": 22,
   "id": "7fcc0ede-d4e2-494b-acf7-757d34972976",
   "metadata": {},
   "outputs": [
    {
     "data": {
      "text/plain": [
       "Index(['Date', 'Price', 'Open', 'High', 'Low', 'Volume', 'Change%'], dtype='object')"
      ]
     },
     "execution_count": 22,
     "metadata": {},
     "output_type": "execute_result"
    }
   ],
   "source": [
    "df.columns"
   ]
  },
  {
   "cell_type": "code",
   "execution_count": 23,
   "id": "05a65039-7cc6-45c4-9790-627f1241fefc",
   "metadata": {},
   "outputs": [],
   "source": [
    "df= df"
   ]
  },
  {
   "cell_type": "code",
   "execution_count": 24,
   "id": "83618d08-f123-4765-8a79-a1f9e66c8201",
   "metadata": {},
   "outputs": [
    {
     "ename": "KeyError",
     "evalue": "\"[' Volume', ' Change%'] not found in axis\"",
     "output_type": "error",
     "traceback": [
      "\u001b[0;31m---------------------------------------------------------------------------\u001b[0m",
      "\u001b[0;31mKeyError\u001b[0m                                  Traceback (most recent call last)",
      "Cell \u001b[0;32mIn[24], line 1\u001b[0m\n\u001b[0;32m----> 1\u001b[0m \u001b[43mdf\u001b[49m\u001b[38;5;241;43m.\u001b[39;49m\u001b[43mdrop\u001b[49m\u001b[43m(\u001b[49m\u001b[43m[\u001b[49m\u001b[38;5;124;43m'\u001b[39;49m\u001b[38;5;124;43m Volume\u001b[39;49m\u001b[38;5;124;43m'\u001b[39;49m\u001b[43m,\u001b[49m\u001b[38;5;124;43m'\u001b[39;49m\u001b[38;5;124;43m Change\u001b[39;49m\u001b[38;5;124;43m%\u001b[39;49m\u001b[38;5;124;43m'\u001b[39;49m\u001b[43m]\u001b[49m\u001b[43m,\u001b[49m\u001b[43m \u001b[49m\u001b[43maxis\u001b[49m\u001b[43m \u001b[49m\u001b[38;5;241;43m=\u001b[39;49m\u001b[43m \u001b[49m\u001b[38;5;241;43m1\u001b[39;49m\u001b[43m,\u001b[49m\u001b[43m \u001b[49m\u001b[43minplace\u001b[49m\u001b[38;5;241;43m=\u001b[39;49m\u001b[43m \u001b[49m\u001b[38;5;28;43;01mTrue\u001b[39;49;00m\u001b[43m)\u001b[49m\n",
      "File \u001b[0;32m/usr/local/lib/python3.10/dist-packages/pandas/core/frame.py:5347\u001b[0m, in \u001b[0;36mDataFrame.drop\u001b[0;34m(self, labels, axis, index, columns, level, inplace, errors)\u001b[0m\n\u001b[1;32m   5199\u001b[0m \u001b[38;5;28;01mdef\u001b[39;00m \u001b[38;5;21mdrop\u001b[39m(\n\u001b[1;32m   5200\u001b[0m     \u001b[38;5;28mself\u001b[39m,\n\u001b[1;32m   5201\u001b[0m     labels: IndexLabel \u001b[38;5;241m|\u001b[39m \u001b[38;5;28;01mNone\u001b[39;00m \u001b[38;5;241m=\u001b[39m \u001b[38;5;28;01mNone\u001b[39;00m,\n\u001b[0;32m   (...)\u001b[0m\n\u001b[1;32m   5208\u001b[0m     errors: IgnoreRaise \u001b[38;5;241m=\u001b[39m \u001b[38;5;124m\"\u001b[39m\u001b[38;5;124mraise\u001b[39m\u001b[38;5;124m\"\u001b[39m,\n\u001b[1;32m   5209\u001b[0m ) \u001b[38;5;241m-\u001b[39m\u001b[38;5;241m>\u001b[39m DataFrame \u001b[38;5;241m|\u001b[39m \u001b[38;5;28;01mNone\u001b[39;00m:\n\u001b[1;32m   5210\u001b[0m \u001b[38;5;250m    \u001b[39m\u001b[38;5;124;03m\"\"\"\u001b[39;00m\n\u001b[1;32m   5211\u001b[0m \u001b[38;5;124;03m    Drop specified labels from rows or columns.\u001b[39;00m\n\u001b[1;32m   5212\u001b[0m \n\u001b[0;32m   (...)\u001b[0m\n\u001b[1;32m   5345\u001b[0m \u001b[38;5;124;03m            weight  1.0     0.8\u001b[39;00m\n\u001b[1;32m   5346\u001b[0m \u001b[38;5;124;03m    \"\"\"\u001b[39;00m\n\u001b[0;32m-> 5347\u001b[0m     \u001b[38;5;28;01mreturn\u001b[39;00m \u001b[38;5;28;43msuper\u001b[39;49m\u001b[43m(\u001b[49m\u001b[43m)\u001b[49m\u001b[38;5;241;43m.\u001b[39;49m\u001b[43mdrop\u001b[49m\u001b[43m(\u001b[49m\n\u001b[1;32m   5348\u001b[0m \u001b[43m        \u001b[49m\u001b[43mlabels\u001b[49m\u001b[38;5;241;43m=\u001b[39;49m\u001b[43mlabels\u001b[49m\u001b[43m,\u001b[49m\n\u001b[1;32m   5349\u001b[0m \u001b[43m        \u001b[49m\u001b[43maxis\u001b[49m\u001b[38;5;241;43m=\u001b[39;49m\u001b[43maxis\u001b[49m\u001b[43m,\u001b[49m\n\u001b[1;32m   5350\u001b[0m \u001b[43m        \u001b[49m\u001b[43mindex\u001b[49m\u001b[38;5;241;43m=\u001b[39;49m\u001b[43mindex\u001b[49m\u001b[43m,\u001b[49m\n\u001b[1;32m   5351\u001b[0m \u001b[43m        \u001b[49m\u001b[43mcolumns\u001b[49m\u001b[38;5;241;43m=\u001b[39;49m\u001b[43mcolumns\u001b[49m\u001b[43m,\u001b[49m\n\u001b[1;32m   5352\u001b[0m \u001b[43m        \u001b[49m\u001b[43mlevel\u001b[49m\u001b[38;5;241;43m=\u001b[39;49m\u001b[43mlevel\u001b[49m\u001b[43m,\u001b[49m\n\u001b[1;32m   5353\u001b[0m \u001b[43m        \u001b[49m\u001b[43minplace\u001b[49m\u001b[38;5;241;43m=\u001b[39;49m\u001b[43minplace\u001b[49m\u001b[43m,\u001b[49m\n\u001b[1;32m   5354\u001b[0m \u001b[43m        \u001b[49m\u001b[43merrors\u001b[49m\u001b[38;5;241;43m=\u001b[39;49m\u001b[43merrors\u001b[49m\u001b[43m,\u001b[49m\n\u001b[1;32m   5355\u001b[0m \u001b[43m    \u001b[49m\u001b[43m)\u001b[49m\n",
      "File \u001b[0;32m/usr/local/lib/python3.10/dist-packages/pandas/core/generic.py:4711\u001b[0m, in \u001b[0;36mNDFrame.drop\u001b[0;34m(self, labels, axis, index, columns, level, inplace, errors)\u001b[0m\n\u001b[1;32m   4709\u001b[0m \u001b[38;5;28;01mfor\u001b[39;00m axis, labels \u001b[38;5;129;01min\u001b[39;00m axes\u001b[38;5;241m.\u001b[39mitems():\n\u001b[1;32m   4710\u001b[0m     \u001b[38;5;28;01mif\u001b[39;00m labels \u001b[38;5;129;01mis\u001b[39;00m \u001b[38;5;129;01mnot\u001b[39;00m \u001b[38;5;28;01mNone\u001b[39;00m:\n\u001b[0;32m-> 4711\u001b[0m         obj \u001b[38;5;241m=\u001b[39m \u001b[43mobj\u001b[49m\u001b[38;5;241;43m.\u001b[39;49m\u001b[43m_drop_axis\u001b[49m\u001b[43m(\u001b[49m\u001b[43mlabels\u001b[49m\u001b[43m,\u001b[49m\u001b[43m \u001b[49m\u001b[43maxis\u001b[49m\u001b[43m,\u001b[49m\u001b[43m \u001b[49m\u001b[43mlevel\u001b[49m\u001b[38;5;241;43m=\u001b[39;49m\u001b[43mlevel\u001b[49m\u001b[43m,\u001b[49m\u001b[43m \u001b[49m\u001b[43merrors\u001b[49m\u001b[38;5;241;43m=\u001b[39;49m\u001b[43merrors\u001b[49m\u001b[43m)\u001b[49m\n\u001b[1;32m   4713\u001b[0m \u001b[38;5;28;01mif\u001b[39;00m inplace:\n\u001b[1;32m   4714\u001b[0m     \u001b[38;5;28mself\u001b[39m\u001b[38;5;241m.\u001b[39m_update_inplace(obj)\n",
      "File \u001b[0;32m/usr/local/lib/python3.10/dist-packages/pandas/core/generic.py:4753\u001b[0m, in \u001b[0;36mNDFrame._drop_axis\u001b[0;34m(self, labels, axis, level, errors, only_slice)\u001b[0m\n\u001b[1;32m   4751\u001b[0m         new_axis \u001b[38;5;241m=\u001b[39m axis\u001b[38;5;241m.\u001b[39mdrop(labels, level\u001b[38;5;241m=\u001b[39mlevel, errors\u001b[38;5;241m=\u001b[39merrors)\n\u001b[1;32m   4752\u001b[0m     \u001b[38;5;28;01melse\u001b[39;00m:\n\u001b[0;32m-> 4753\u001b[0m         new_axis \u001b[38;5;241m=\u001b[39m \u001b[43maxis\u001b[49m\u001b[38;5;241;43m.\u001b[39;49m\u001b[43mdrop\u001b[49m\u001b[43m(\u001b[49m\u001b[43mlabels\u001b[49m\u001b[43m,\u001b[49m\u001b[43m \u001b[49m\u001b[43merrors\u001b[49m\u001b[38;5;241;43m=\u001b[39;49m\u001b[43merrors\u001b[49m\u001b[43m)\u001b[49m\n\u001b[1;32m   4754\u001b[0m     indexer \u001b[38;5;241m=\u001b[39m axis\u001b[38;5;241m.\u001b[39mget_indexer(new_axis)\n\u001b[1;32m   4756\u001b[0m \u001b[38;5;66;03m# Case for non-unique axis\u001b[39;00m\n\u001b[1;32m   4757\u001b[0m \u001b[38;5;28;01melse\u001b[39;00m:\n",
      "File \u001b[0;32m/usr/local/lib/python3.10/dist-packages/pandas/core/indexes/base.py:6992\u001b[0m, in \u001b[0;36mIndex.drop\u001b[0;34m(self, labels, errors)\u001b[0m\n\u001b[1;32m   6990\u001b[0m \u001b[38;5;28;01mif\u001b[39;00m mask\u001b[38;5;241m.\u001b[39many():\n\u001b[1;32m   6991\u001b[0m     \u001b[38;5;28;01mif\u001b[39;00m errors \u001b[38;5;241m!=\u001b[39m \u001b[38;5;124m\"\u001b[39m\u001b[38;5;124mignore\u001b[39m\u001b[38;5;124m\"\u001b[39m:\n\u001b[0;32m-> 6992\u001b[0m         \u001b[38;5;28;01mraise\u001b[39;00m \u001b[38;5;167;01mKeyError\u001b[39;00m(\u001b[38;5;124mf\u001b[39m\u001b[38;5;124m\"\u001b[39m\u001b[38;5;132;01m{\u001b[39;00mlabels[mask]\u001b[38;5;241m.\u001b[39mtolist()\u001b[38;5;132;01m}\u001b[39;00m\u001b[38;5;124m not found in axis\u001b[39m\u001b[38;5;124m\"\u001b[39m)\n\u001b[1;32m   6993\u001b[0m     indexer \u001b[38;5;241m=\u001b[39m indexer[\u001b[38;5;241m~\u001b[39mmask]\n\u001b[1;32m   6994\u001b[0m \u001b[38;5;28;01mreturn\u001b[39;00m \u001b[38;5;28mself\u001b[39m\u001b[38;5;241m.\u001b[39mdelete(indexer)\n",
      "\u001b[0;31mKeyError\u001b[0m: \"[' Volume', ' Change%'] not found in axis\""
     ]
    }
   ],
   "source": [
    "df.drop(['Volume','Change%'], axis = 1, inplace= True)"
   ]
  },
  {
   "cell_type": "markdown",
   "id": "e1ffa1cd-8924-45f4-a84c-eff337f419dc",
   "metadata": {},
   "source": [
    "### 3. To do Exploratory Data Analysis"
   ]
  },
  {
   "cell_type": "code",
   "execution_count": null,
   "id": "7b4bb263-7933-410c-ba96-2eeaa5bdc02f",
   "metadata": {},
   "outputs": [],
   "source": [
    "df.info()"
   ]
  },
  {
   "cell_type": "code",
   "execution_count": null,
   "id": "be2db6fe-59ed-400a-9395-92265ef8566d",
   "metadata": {},
   "outputs": [],
   "source": [
    "df.describe()"
   ]
  },
  {
   "cell_type": "code",
   "execution_count": null,
   "id": "a76b68ff-0253-4e0b-8c15-644a52b0c60f",
   "metadata": {},
   "outputs": [],
   "source": [
    "df.corr()"
   ]
  },
  {
   "cell_type": "code",
   "execution_count": null,
   "id": "73ccdd78-3b29-4e59-8496-d76f16e6bf32",
   "metadata": {},
   "outputs": [],
   "source": [
    "df.columns"
   ]
  },
  {
   "cell_type": "code",
   "execution_count": null,
   "id": "f270fba8-03d3-4403-9ace-c934fc0a1171",
   "metadata": {},
   "outputs": [],
   "source": [
    "# selected_columns = ['Date', ' Price', ' Open', ' High', ' Low']\n",
    "# selected_data = df[selected_columns]\n",
    "\n",
    "# # Create a box plot\n",
    "# plt.figure(figsize=(10, 6))\n",
    "# selected_data.boxplot()\n",
    "# plt.title('Box Plot of Stock Data')\n",
    "# plt.ylabel('Value')\n",
    "# plt.xlabel('Variables')\n",
    "# plt.xticks(rotation=45)\n",
    "# plt.tight_layout()\n",
    "# plt.show()\n"
   ]
  },
  {
   "cell_type": "code",
   "execution_count": null,
   "id": "fcb46f9b-1fc4-4bbe-bb4e-8fce90690f96",
   "metadata": {},
   "outputs": [],
   "source": [
    "# Setting the layout for our plot\n",
    "layout = go.Layout(\n",
    "    title='Stock Prices of Reliance',\n",
    "    xaxis=dict(\n",
    "        title='Date',\n",
    "        titlefont=dict(\n",
    "            family='Courier New, monospace',\n",
    "            size=18,\n",
    "            color='#7f7f7f'\n",
    "        )\n",
    "    ),\n",
    "    yaxis=dict(\n",
    "        title='Price',\n",
    "        titlefont=dict(\n",
    "            family='Courier New, monospace',\n",
    "            size=18,\n",
    "            color='#7f7f7f'\n",
    "        )\n",
    "    )\n",
    ")\n",
    "\n",
    "reliance_data = [{'x':df['Date'], 'y':df['Price']}]\n",
    "plot = go.Figure(data=reliance_data, layout=layout)"
   ]
  },
  {
   "cell_type": "code",
   "execution_count": null,
   "id": "0c3e3b25-4c10-43d5-95e7-568e9c0a0c12",
   "metadata": {},
   "outputs": [],
   "source": [
    "#plot(plot) #plotting offline\n",
    "iplot(plot)"
   ]
  },
  {
   "cell_type": "markdown",
   "id": "352ef024-5247-4c30-ae7c-a301c438ae48",
   "metadata": {},
   "source": [
    "## 4. Data Pre- Processing"
   ]
  },
  {
   "cell_type": "code",
   "execution_count": null,
   "id": "02eee904-271d-409c-b41a-622dec7c3ebc",
   "metadata": {},
   "outputs": [],
   "source": [
    "# Building the regression model\n",
    "from sklearn.model_selection import train_test_split\n",
    "\n",
    "#For preprocessing\n",
    "from sklearn.preprocessing import MinMaxScaler\n",
    "from sklearn.preprocessing import StandardScaler\n",
    "\n",
    "#For model evaluation\n",
    "from sklearn.metrics import mean_squared_error as mse\n",
    "from sklearn.metrics import r2_score"
   ]
  },
  {
   "cell_type": "markdown",
   "id": "359bb93f-ef69-4ead-b60d-55008705eb45",
   "metadata": {},
   "source": [
    "### Split the data into train and test sets"
   ]
  },
  {
   "cell_type": "code",
   "execution_count": null,
   "id": "74c26d87-f068-491a-99fe-efbd39bee367",
   "metadata": {},
   "outputs": [],
   "source": [
    "X = np.array(df.index).reshape(-1,1)\n",
    "Y = df[' Price']\n",
    "X_train, X_test, Y_train, Y_test = train_test_split(X, Y, test_size=0.3, random_state=101)"
   ]
  },
  {
   "cell_type": "markdown",
   "id": "0bfbd215-dc60-4a61-bcb7-cb0f7dee6b6f",
   "metadata": {},
   "source": [
    "### Feature scaling"
   ]
  },
  {
   "cell_type": "code",
   "execution_count": null,
   "id": "af413e1c-6a5b-4bc1-9ab8-b2cec9266565",
   "metadata": {},
   "outputs": [],
   "source": [
    "scaler = StandardScaler().fit(X_train)"
   ]
  },
  {
   "cell_type": "markdown",
   "id": "2777cdf5-624b-4a1f-84bd-ea7f8c53f925",
   "metadata": {},
   "source": [
    "### 5. Model Building"
   ]
  },
  {
   "cell_type": "code",
   "execution_count": null,
   "id": "11160c13-7efb-4351-83e4-3d65ecb3f7f4",
   "metadata": {},
   "outputs": [],
   "source": [
    "from sklearn.linear_model import LinearRegression\n",
    "\n",
    "#Creating a linear model\n",
    "lm = LinearRegression()\n",
    "lm.fit(X_train, Y_train)"
   ]
  },
  {
   "cell_type": "code",
   "execution_count": null,
   "id": "96f6bcaa-6975-4b59-84c4-8bba156f1050",
   "metadata": {},
   "outputs": [],
   "source": [
    "#Plot actual and predicted values for train dataset\n",
    "trace0 = go.Scatter(\n",
    "    x = X_train.T[0],\n",
    "    y = Y_train,\n",
    "    mode = 'markers',\n",
    "    name = 'Actual'\n",
    ")\n",
    "trace1 = go.Scatter(\n",
    "    x = X_train.T[0],\n",
    "    y = lm.predict(X_train).T,\n",
    "    mode = 'lines',\n",
    "    name = 'Predicted'\n",
    ")\n",
    "reliance_data = [trace0,trace1]\n",
    "layout.xaxis.title.text = 'Day'\n",
    "plot2 = go.Figure(data=reliance_data, layout=layout)"
   ]
  },
  {
   "cell_type": "code",
   "execution_count": null,
   "id": "b119d3fa-8bb3-437a-916c-3fd6d1cc8d61",
   "metadata": {},
   "outputs": [],
   "source": [
    "iplot(plot2)"
   ]
  },
  {
   "cell_type": "markdown",
   "id": "d53b5d90-4aa7-4412-8832-d87f57de4e3d",
   "metadata": {},
   "source": [
    "## 6.Model Evaluation"
   ]
  },
  {
   "cell_type": "code",
   "execution_count": null,
   "id": "038126b4-879f-49cc-b667-7877872f709e",
   "metadata": {},
   "outputs": [],
   "source": [
    "#Calculate scores for model evaluation\n",
    "scores = f'''\n",
    "{'Metric'.ljust(10)}{'Train'.center(20)}{'Test'.center(20)}\n",
    "{'r2_score'.ljust(10)}{r2_score(Y_train, lm.predict(X_train))}\\t{r2_score(Y_test, lm.predict(X_test))}\n",
    "{'MSE'.ljust(10)}{mse(Y_train, lm.predict(X_train))}\\t{mse(Y_test, lm.predict(X_test))}\n",
    "'''\n",
    "print(scores)"
   ]
  },
  {
   "cell_type": "code",
   "execution_count": null,
   "id": "75fc6d61-8ff3-4cfb-8cf8-822c5bfdac31",
   "metadata": {},
   "outputs": [],
   "source": []
  }
 ],
 "metadata": {
  "kernelspec": {
   "display_name": "Python 3 (ipykernel)",
   "language": "python",
   "name": "python3"
  },
  "language_info": {
   "codemirror_mode": {
    "name": "ipython",
    "version": 3
   },
   "file_extension": ".py",
   "mimetype": "text/x-python",
   "name": "python",
   "nbconvert_exporter": "python",
   "pygments_lexer": "ipython3",
   "version": "3.10.12"
  }
 },
 "nbformat": 4,
 "nbformat_minor": 5
}
