{
 "cells": [
  {
   "cell_type": "code",
   "execution_count": 2,
   "id": "c21cb07e-4962-4127-98a0-ca797a56ba11",
   "metadata": {},
   "outputs": [],
   "source": [
    "import pandas as pd\n",
    "import numpy as np\n",
    "import matplotlib.pyplot as plt\n",
    "from sklearn.model_selection import train_test_split\n",
    "from sklearn.linear_model import LinearRegression\n",
    "from sklearn.metrics import mean_squared_error\n",
    "from datetime import datetime\n",
    "import yfinance as yf"
   ]
  },
  {
   "cell_type": "code",
   "execution_count": 3,
   "id": "adb85c96-5d18-495b-b808-040e6e908e26",
   "metadata": {},
   "outputs": [
    {
     "data": {
      "text/html": [
       "<div>\n",
       "<style scoped>\n",
       "    .dataframe tbody tr th:only-of-type {\n",
       "        vertical-align: middle;\n",
       "    }\n",
       "\n",
       "    .dataframe tbody tr th {\n",
       "        vertical-align: top;\n",
       "    }\n",
       "\n",
       "    .dataframe thead th {\n",
       "        text-align: right;\n",
       "    }\n",
       "</style>\n",
       "<table border=\"1\" class=\"dataframe\">\n",
       "  <thead>\n",
       "    <tr style=\"text-align: right;\">\n",
       "      <th></th>\n",
       "      <th>Open</th>\n",
       "      <th>High</th>\n",
       "      <th>Low</th>\n",
       "      <th>Close</th>\n",
       "      <th>Adj Close</th>\n",
       "      <th>Volume</th>\n",
       "    </tr>\n",
       "    <tr>\n",
       "      <th>Date</th>\n",
       "      <th></th>\n",
       "      <th></th>\n",
       "      <th></th>\n",
       "      <th></th>\n",
       "      <th></th>\n",
       "      <th></th>\n",
       "    </tr>\n",
       "  </thead>\n",
       "  <tbody>\n",
       "    <tr>\n",
       "      <th>2020-01-01</th>\n",
       "      <td>1503.745972</td>\n",
       "      <td>1512.760498</td>\n",
       "      <td>1491.363403</td>\n",
       "      <td>1495.424927</td>\n",
       "      <td>1475.384155</td>\n",
       "      <td>6463060</td>\n",
       "    </tr>\n",
       "    <tr>\n",
       "      <th>2020-01-02</th>\n",
       "      <td>1497.802368</td>\n",
       "      <td>1526.480469</td>\n",
       "      <td>1497.802368</td>\n",
       "      <td>1520.883545</td>\n",
       "      <td>1500.501587</td>\n",
       "      <td>8173308</td>\n",
       "    </tr>\n",
       "    <tr>\n",
       "      <th>2020-01-03</th>\n",
       "      <td>1518.605103</td>\n",
       "      <td>1527.173950</td>\n",
       "      <td>1508.699097</td>\n",
       "      <td>1522.716187</td>\n",
       "      <td>1502.309814</td>\n",
       "      <td>9684434</td>\n",
       "    </tr>\n",
       "    <tr>\n",
       "      <th>2020-01-06</th>\n",
       "      <td>1505.727173</td>\n",
       "      <td>1513.552979</td>\n",
       "      <td>1483.933838</td>\n",
       "      <td>1487.400879</td>\n",
       "      <td>1467.467651</td>\n",
       "      <td>11315596</td>\n",
       "    </tr>\n",
       "    <tr>\n",
       "      <th>2020-01-07</th>\n",
       "      <td>1504.736572</td>\n",
       "      <td>1520.091064</td>\n",
       "      <td>1499.288208</td>\n",
       "      <td>1510.284058</td>\n",
       "      <td>1490.044189</td>\n",
       "      <td>7699489</td>\n",
       "    </tr>\n",
       "  </tbody>\n",
       "</table>\n",
       "</div>"
      ],
      "text/plain": [
       "                   Open         High          Low        Close    Adj Close  \\\n",
       "Date                                                                          \n",
       "2020-01-01  1503.745972  1512.760498  1491.363403  1495.424927  1475.384155   \n",
       "2020-01-02  1497.802368  1526.480469  1497.802368  1520.883545  1500.501587   \n",
       "2020-01-03  1518.605103  1527.173950  1508.699097  1522.716187  1502.309814   \n",
       "2020-01-06  1505.727173  1513.552979  1483.933838  1487.400879  1467.467651   \n",
       "2020-01-07  1504.736572  1520.091064  1499.288208  1510.284058  1490.044189   \n",
       "\n",
       "              Volume  \n",
       "Date                  \n",
       "2020-01-01   6463060  \n",
       "2020-01-02   8173308  \n",
       "2020-01-03   9684434  \n",
       "2020-01-06  11315596  \n",
       "2020-01-07   7699489  "
      ]
     },
     "execution_count": 3,
     "metadata": {},
     "output_type": "execute_result"
    }
   ],
   "source": [
    "# Fetch Reliance stock data using Yahoo Finance\n",
    "reliance = yf.download('RELIANCE.NS', start='2020-01-01', end='2022-01-01', progress=False)\n",
    "reliance.head()"
   ]
  },
  {
   "cell_type": "code",
   "execution_count": 4,
   "id": "a3961dec-c7bf-4e60-b9e1-799c989b50d1",
   "metadata": {},
   "outputs": [
    {
     "name": "stderr",
     "output_type": "stream",
     "text": [
      "/tmp/ipykernel_8606/1166081619.py:9: SettingWithCopyWarning: \n",
      "A value is trying to be set on a copy of a slice from a DataFrame.\n",
      "Try using .loc[row_indexer,col_indexer] = value instead\n",
      "\n",
      "See the caveats in the documentation: https://pandas.pydata.org/pandas-docs/stable/user_guide/indexing.html#returning-a-view-versus-a-copy\n",
      "  data['Prediction'] = data['Close'].shift(-forecast_out)\n"
     ]
    },
    {
     "ename": "TypeError",
     "evalue": "DataFrame.drop() takes from 1 to 2 positional arguments but 3 were given",
     "output_type": "error",
     "traceback": [
      "\u001b[0;31m---------------------------------------------------------------------------\u001b[0m",
      "\u001b[0;31mTypeError\u001b[0m                                 Traceback (most recent call last)",
      "Cell \u001b[0;32mIn[4], line 12\u001b[0m\n\u001b[1;32m      9\u001b[0m data[\u001b[38;5;124m'\u001b[39m\u001b[38;5;124mPrediction\u001b[39m\u001b[38;5;124m'\u001b[39m] \u001b[38;5;241m=\u001b[39m data[\u001b[38;5;124m'\u001b[39m\u001b[38;5;124mClose\u001b[39m\u001b[38;5;124m'\u001b[39m]\u001b[38;5;241m.\u001b[39mshift(\u001b[38;5;241m-\u001b[39mforecast_out)\n\u001b[1;32m     11\u001b[0m \u001b[38;5;66;03m# Creating X and y datasets\u001b[39;00m\n\u001b[0;32m---> 12\u001b[0m X \u001b[38;5;241m=\u001b[39m np\u001b[38;5;241m.\u001b[39marray(\u001b[43mdata\u001b[49m\u001b[38;5;241;43m.\u001b[39;49m\u001b[43mdrop\u001b[49m\u001b[43m(\u001b[49m\u001b[43m[\u001b[49m\u001b[38;5;124;43m'\u001b[39;49m\u001b[38;5;124;43mPrediction\u001b[39;49m\u001b[38;5;124;43m'\u001b[39;49m\u001b[43m]\u001b[49m\u001b[43m,\u001b[49m\u001b[43m \u001b[49m\u001b[38;5;241;43m1\u001b[39;49m\u001b[43m)\u001b[49m)\n\u001b[1;32m     13\u001b[0m X \u001b[38;5;241m=\u001b[39m X[:\u001b[38;5;241m-\u001b[39mforecast_out]\n\u001b[1;32m     14\u001b[0m y \u001b[38;5;241m=\u001b[39m np\u001b[38;5;241m.\u001b[39marray(data[\u001b[38;5;124m'\u001b[39m\u001b[38;5;124mPrediction\u001b[39m\u001b[38;5;124m'\u001b[39m])\n",
      "\u001b[0;31mTypeError\u001b[0m: DataFrame.drop() takes from 1 to 2 positional arguments but 3 were given"
     ]
    }
   ],
   "source": [
    "# Checking for missing values\n",
    "reliance.isnull().sum()\n",
    "\n",
    "# Feature selection\n",
    "data = reliance[['Close']]\n",
    "\n",
    "# Creating a new column for prediction\n",
    "forecast_out = 30  # Predict stock prices for the next 30 days\n",
    "data['Prediction'] = data['Close'].shift(-forecast_out)\n",
    "\n",
    "# Creating X and y datasets\n",
    "X = np.array(data.drop(['Prediction'], 1))\n",
    "X = X[:-forecast_out]\n",
    "y = np.array(data['Prediction'])\n",
    "y = y[:-forecast_out]\n",
    "\n",
    "# Splitting the data into training and testing sets\n",
    "X_train, X_test, y_train, y_test = train_test_split(X, y, test_size=0.2, random_state=42)\n"
   ]
  },
  {
   "cell_type": "code",
   "execution_count": null,
   "id": "7ba46e3f-930e-4a29-9b99-f3f9532fc3bc",
   "metadata": {},
   "outputs": [],
   "source": [
    "# Initialize and train the model (Linear Regression)\n",
    "model = LinearRegression()\n",
    "model.fit(X_train, y_train)\n",
    "\n",
    "# Make predictions\n",
    "predictions = model.predict(X_test)\n",
    "\n",
    "# Evaluate the model\n",
    "mse = mean_squared_error(y_test, predictions)\n",
    "print(\"Mean Squared Error:\", mse)\n"
   ]
  },
  {
   "cell_type": "code",
   "execution_count": null,
   "id": "edae20f8-d1fd-4d3f-baf6-a7ff1822ba1f",
   "metadata": {},
   "outputs": [],
   "source": []
  }
 ],
 "metadata": {
  "kernelspec": {
   "display_name": "Python 3 (ipykernel)",
   "language": "python",
   "name": "python3"
  },
  "language_info": {
   "codemirror_mode": {
    "name": "ipython",
    "version": 3
   },
   "file_extension": ".py",
   "mimetype": "text/x-python",
   "name": "python",
   "nbconvert_exporter": "python",
   "pygments_lexer": "ipython3",
   "version": "3.10.12"
  }
 },
 "nbformat": 4,
 "nbformat_minor": 5
}
