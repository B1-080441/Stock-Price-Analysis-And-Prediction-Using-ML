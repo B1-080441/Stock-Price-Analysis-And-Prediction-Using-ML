{
 "cells": [
  {
   "cell_type": "markdown",
   "id": "cabc1a33-f256-4d4e-8922-2aa7b5cd57b5",
   "metadata": {},
   "source": [
    "# Reliance Stock Price Prediction"
   ]
  },
  {
   "cell_type": "markdown",
   "id": "0598f47c-eb6b-4f4c-b0ea-25ac0bdf3487",
   "metadata": {},
   "source": [
    "### dependent variable = Close Price"
   ]
  },
  {
   "cell_type": "markdown",
   "id": "785139ff-b78a-41c7-a689-574933577d10",
   "metadata": {},
   "source": [
    "### 1. Import required packages"
   ]
  },
  {
   "cell_type": "code",
   "execution_count": 1,
   "id": "2444f486-d4f1-4eab-81bb-130dcb2f5623",
   "metadata": {},
   "outputs": [],
   "source": [
    "import os\n",
    "import numpy as np\n",
    "import pandas as pd\n",
    "import seaborn as sns\n",
    "import warnings\n",
    "warnings.filterwarnings('ignore')\n",
    "import datetime\n",
    "import matplotlib.pyplot as plt\n",
    "from statsmodels.tsa.stattools import adfuller\n",
    "from statsmodels.tsa.seasonal import seasonal_decompose\n",
    "from pmdarima.arima import auto_arima\n",
    "from sklearn.metrics import mean_squared_error, mean_absolute_error\n",
    "import math\n",
    "\n",
    "import statsmodels.api as sm\n",
    "\n",
    "from statsmodels.tsa.stattools import acf, pacf\n",
    "from math import sqrt\n",
    "from pandas import read_csv\n",
    "from statsmodels.tsa.arima.model import ARIMA\n",
    "from pandas.tseries.offsets import DateOffset"
   ]
  },
  {
   "cell_type": "markdown",
   "id": "22d0a898-143f-4550-9f0a-61a8629fc376",
   "metadata": {},
   "source": [
    "### 2.Read the data from the Source"
   ]
  },
  {
   "cell_type": "code",
   "execution_count": 2,
   "id": "d164d9df-3af4-4bd6-92c1-27e6ce351c91",
   "metadata": {},
   "outputs": [
    {
     "data": {
      "text/html": [
       "<div>\n",
       "<style scoped>\n",
       "    .dataframe tbody tr th:only-of-type {\n",
       "        vertical-align: middle;\n",
       "    }\n",
       "\n",
       "    .dataframe tbody tr th {\n",
       "        vertical-align: top;\n",
       "    }\n",
       "\n",
       "    .dataframe thead th {\n",
       "        text-align: right;\n",
       "    }\n",
       "</style>\n",
       "<table border=\"1\" class=\"dataframe\">\n",
       "  <thead>\n",
       "    <tr style=\"text-align: right;\">\n",
       "      <th></th>\n",
       "      <th>Date</th>\n",
       "      <th>Price</th>\n",
       "      <th>Open</th>\n",
       "      <th>High</th>\n",
       "      <th>Low</th>\n",
       "      <th>Volume</th>\n",
       "      <th>Change%</th>\n",
       "    </tr>\n",
       "  </thead>\n",
       "  <tbody>\n",
       "    <tr>\n",
       "      <th>0</th>\n",
       "      <td>Jan 02 1990</td>\n",
       "      <td>7.27</td>\n",
       "      <td>7.31</td>\n",
       "      <td>7.44</td>\n",
       "      <td>7.14</td>\n",
       "      <td>0</td>\n",
       "      <td>-1.62%</td>\n",
       "    </tr>\n",
       "    <tr>\n",
       "      <th>1</th>\n",
       "      <td>Jan 03 1990</td>\n",
       "      <td>6.92</td>\n",
       "      <td>7.18</td>\n",
       "      <td>7.18</td>\n",
       "      <td>6.84</td>\n",
       "      <td>0</td>\n",
       "      <td>-4.81%</td>\n",
       "    </tr>\n",
       "    <tr>\n",
       "      <th>2</th>\n",
       "      <td>Jan 04 1990</td>\n",
       "      <td>6.50</td>\n",
       "      <td>6.24</td>\n",
       "      <td>6.58</td>\n",
       "      <td>6.24</td>\n",
       "      <td>0</td>\n",
       "      <td>-6.07%</td>\n",
       "    </tr>\n",
       "    <tr>\n",
       "      <th>3</th>\n",
       "      <td>Jan 05 1990</td>\n",
       "      <td>6.71</td>\n",
       "      <td>6.37</td>\n",
       "      <td>6.71</td>\n",
       "      <td>6.37</td>\n",
       "      <td>0</td>\n",
       "      <td>3.23%</td>\n",
       "    </tr>\n",
       "    <tr>\n",
       "      <th>4</th>\n",
       "      <td>Jan 08 1990</td>\n",
       "      <td>6.71</td>\n",
       "      <td>7.05</td>\n",
       "      <td>7.05</td>\n",
       "      <td>6.67</td>\n",
       "      <td>0</td>\n",
       "      <td>0.00%</td>\n",
       "    </tr>\n",
       "    <tr>\n",
       "      <th>...</th>\n",
       "      <td>...</td>\n",
       "      <td>...</td>\n",
       "      <td>...</td>\n",
       "      <td>...</td>\n",
       "      <td>...</td>\n",
       "      <td>...</td>\n",
       "      <td>...</td>\n",
       "    </tr>\n",
       "    <tr>\n",
       "      <th>8175</th>\n",
       "      <td>Dec 11 2023</td>\n",
       "      <td>2459.05</td>\n",
       "      <td>2452.15</td>\n",
       "      <td>2467.40</td>\n",
       "      <td>2452.15</td>\n",
       "      <td>169.52K</td>\n",
       "      <td>+0.12%</td>\n",
       "    </tr>\n",
       "    <tr>\n",
       "      <th>8176</th>\n",
       "      <td>Dec 12 2023</td>\n",
       "      <td>2423.95</td>\n",
       "      <td>2458.00</td>\n",
       "      <td>2464.90</td>\n",
       "      <td>2420.25</td>\n",
       "      <td>98.11K</td>\n",
       "      <td>-1.43%</td>\n",
       "    </tr>\n",
       "    <tr>\n",
       "      <th>8177</th>\n",
       "      <td>Dec 13 2023</td>\n",
       "      <td>2433.40</td>\n",
       "      <td>2427.75</td>\n",
       "      <td>2438.00</td>\n",
       "      <td>2406.30</td>\n",
       "      <td>137.30K</td>\n",
       "      <td>+0.39%</td>\n",
       "    </tr>\n",
       "    <tr>\n",
       "      <th>8178</th>\n",
       "      <td>Dec 14 2023</td>\n",
       "      <td>2464.50</td>\n",
       "      <td>2453.00</td>\n",
       "      <td>2475.00</td>\n",
       "      <td>2442.70</td>\n",
       "      <td>3.65M</td>\n",
       "      <td>+1.28%</td>\n",
       "    </tr>\n",
       "    <tr>\n",
       "      <th>8179</th>\n",
       "      <td>Dec 15 2023</td>\n",
       "      <td>2495.20</td>\n",
       "      <td>2472.15</td>\n",
       "      <td>2499.95</td>\n",
       "      <td>2469.05</td>\n",
       "      <td>681.58K</td>\n",
       "      <td>+1.25%</td>\n",
       "    </tr>\n",
       "  </tbody>\n",
       "</table>\n",
       "<p>8180 rows × 7 columns</p>\n",
       "</div>"
      ],
      "text/plain": [
       "             Date    Price     Open     High      Low   Volume  Change%\n",
       "0     Jan 02 1990     7.27     7.31     7.44     7.14        0   -1.62%\n",
       "1     Jan 03 1990     6.92     7.18     7.18     6.84        0   -4.81%\n",
       "2     Jan 04 1990     6.50     6.24     6.58     6.24        0   -6.07%\n",
       "3     Jan 05 1990     6.71     6.37     6.71     6.37        0    3.23%\n",
       "4     Jan 08 1990     6.71     7.05     7.05     6.67        0    0.00%\n",
       "...           ...      ...      ...      ...      ...      ...      ...\n",
       "8175  Dec 11 2023  2459.05  2452.15  2467.40  2452.15  169.52K   +0.12%\n",
       "8176  Dec 12 2023  2423.95  2458.00  2464.90  2420.25   98.11K   -1.43%\n",
       "8177  Dec 13 2023  2433.40  2427.75  2438.00  2406.30  137.30K   +0.39%\n",
       "8178  Dec 14 2023  2464.50  2453.00  2475.00  2442.70    3.65M   +1.28%\n",
       "8179  Dec 15 2023  2495.20  2472.15  2499.95  2469.05  681.58K   +1.25%\n",
       "\n",
       "[8180 rows x 7 columns]"
      ]
     },
     "execution_count": 2,
     "metadata": {},
     "output_type": "execute_result"
    }
   ],
   "source": [
    "stock_data = pd.read_csv('reliance_stock_data_(1990-2023).csv')\n",
    "stock_data"
   ]
  },
  {
   "cell_type": "markdown",
   "id": "645ede9b-8eb3-492d-b336-6124ad94431b",
   "metadata": {},
   "source": [
    "### 3. Exploratory Data Analysis(EDA)"
   ]
  },
  {
   "cell_type": "code",
   "execution_count": 3,
   "id": "6858d3ad-c049-49ec-a521-21687861a307",
   "metadata": {},
   "outputs": [
    {
     "data": {
      "text/html": [
       "<div>\n",
       "<style scoped>\n",
       "    .dataframe tbody tr th:only-of-type {\n",
       "        vertical-align: middle;\n",
       "    }\n",
       "\n",
       "    .dataframe tbody tr th {\n",
       "        vertical-align: top;\n",
       "    }\n",
       "\n",
       "    .dataframe thead th {\n",
       "        text-align: right;\n",
       "    }\n",
       "</style>\n",
       "<table border=\"1\" class=\"dataframe\">\n",
       "  <thead>\n",
       "    <tr style=\"text-align: right;\">\n",
       "      <th></th>\n",
       "      <th>Price</th>\n",
       "      <th>Open</th>\n",
       "      <th>High</th>\n",
       "      <th>Low</th>\n",
       "    </tr>\n",
       "  </thead>\n",
       "  <tbody>\n",
       "    <tr>\n",
       "      <th>count</th>\n",
       "      <td>8180.000000</td>\n",
       "      <td>8180.000000</td>\n",
       "      <td>8180.000000</td>\n",
       "      <td>8180.000000</td>\n",
       "    </tr>\n",
       "    <tr>\n",
       "      <th>mean</th>\n",
       "      <td>483.773132</td>\n",
       "      <td>484.249945</td>\n",
       "      <td>489.842656</td>\n",
       "      <td>478.173011</td>\n",
       "    </tr>\n",
       "    <tr>\n",
       "      <th>std</th>\n",
       "      <td>651.354380</td>\n",
       "      <td>651.900675</td>\n",
       "      <td>658.292800</td>\n",
       "      <td>644.944153</td>\n",
       "    </tr>\n",
       "    <tr>\n",
       "      <th>min</th>\n",
       "      <td>4.360000</td>\n",
       "      <td>4.320000</td>\n",
       "      <td>4.400000</td>\n",
       "      <td>4.270000</td>\n",
       "    </tr>\n",
       "    <tr>\n",
       "      <th>25%</th>\n",
       "      <td>33.980000</td>\n",
       "      <td>33.937500</td>\n",
       "      <td>34.410000</td>\n",
       "      <td>33.532500</td>\n",
       "    </tr>\n",
       "    <tr>\n",
       "      <th>50%</th>\n",
       "      <td>307.170000</td>\n",
       "      <td>306.760000</td>\n",
       "      <td>311.145000</td>\n",
       "      <td>302.550000</td>\n",
       "    </tr>\n",
       "    <tr>\n",
       "      <th>75%</th>\n",
       "      <td>483.885000</td>\n",
       "      <td>485.605000</td>\n",
       "      <td>490.867500</td>\n",
       "      <td>478.135000</td>\n",
       "    </tr>\n",
       "    <tr>\n",
       "      <th>max</th>\n",
       "      <td>2619.850000</td>\n",
       "      <td>2609.000000</td>\n",
       "      <td>2630.950000</td>\n",
       "      <td>2580.000000</td>\n",
       "    </tr>\n",
       "  </tbody>\n",
       "</table>\n",
       "</div>"
      ],
      "text/plain": [
       "             Price         Open         High          Low\n",
       "count  8180.000000  8180.000000  8180.000000  8180.000000\n",
       "mean    483.773132   484.249945   489.842656   478.173011\n",
       "std     651.354380   651.900675   658.292800   644.944153\n",
       "min       4.360000     4.320000     4.400000     4.270000\n",
       "25%      33.980000    33.937500    34.410000    33.532500\n",
       "50%     307.170000   306.760000   311.145000   302.550000\n",
       "75%     483.885000   485.605000   490.867500   478.135000\n",
       "max    2619.850000  2609.000000  2630.950000  2580.000000"
      ]
     },
     "execution_count": 3,
     "metadata": {},
     "output_type": "execute_result"
    }
   ],
   "source": [
    "stock_data.describe()"
   ]
  },
  {
   "cell_type": "code",
   "execution_count": 4,
   "id": "6509747f-e4f6-40df-90b9-460ee6affd06",
   "metadata": {},
   "outputs": [
    {
     "data": {
      "text/plain": [
       "Index(['Date', ' Price', ' Open', ' High', ' Low', ' Volume', ' Change%'], dtype='object')"
      ]
     },
     "execution_count": 4,
     "metadata": {},
     "output_type": "execute_result"
    }
   ],
   "source": [
    "stock_data.columns"
   ]
  },
  {
   "cell_type": "code",
   "execution_count": 5,
   "id": "6e433b97-2ed5-48dd-acd9-3033d8b7b162",
   "metadata": {},
   "outputs": [
    {
     "data": {
      "text/plain": [
       "Date        0\n",
       " Price      0\n",
       " Open       0\n",
       " High       0\n",
       " Low        0\n",
       " Volume     0\n",
       " Change%    0\n",
       "dtype: int64"
      ]
     },
     "execution_count": 5,
     "metadata": {},
     "output_type": "execute_result"
    }
   ],
   "source": [
    "stock_data.isnull().sum()"
   ]
  },
  {
   "cell_type": "code",
   "execution_count": 6,
   "id": "8ef4612f-5385-43c2-b00a-b06aa2b1e062",
   "metadata": {},
   "outputs": [
    {
     "name": "stdout",
     "output_type": "stream",
     "text": [
      "<class 'pandas.core.frame.DataFrame'>\n",
      "RangeIndex: 8180 entries, 0 to 8179\n",
      "Data columns (total 7 columns):\n",
      " #   Column    Non-Null Count  Dtype  \n",
      "---  ------    --------------  -----  \n",
      " 0   Date      8180 non-null   object \n",
      " 1    Price    8180 non-null   float64\n",
      " 2    Open     8180 non-null   float64\n",
      " 3    High     8180 non-null   float64\n",
      " 4    Low      8180 non-null   float64\n",
      " 5    Volume   8180 non-null   object \n",
      " 6    Change%  8180 non-null   object \n",
      "dtypes: float64(4), object(3)\n",
      "memory usage: 447.5+ KB\n"
     ]
    }
   ],
   "source": [
    "stock_data.info()"
   ]
  },
  {
   "cell_type": "code",
   "execution_count": 7,
   "id": "cd335b94-bee1-4de8-849f-4d48204aea75",
   "metadata": {},
   "outputs": [
    {
     "data": {
      "text/html": [
       "<div>\n",
       "<style scoped>\n",
       "    .dataframe tbody tr th:only-of-type {\n",
       "        vertical-align: middle;\n",
       "    }\n",
       "\n",
       "    .dataframe tbody tr th {\n",
       "        vertical-align: top;\n",
       "    }\n",
       "\n",
       "    .dataframe thead th {\n",
       "        text-align: right;\n",
       "    }\n",
       "</style>\n",
       "<table border=\"1\" class=\"dataframe\">\n",
       "  <thead>\n",
       "    <tr style=\"text-align: right;\">\n",
       "      <th></th>\n",
       "      <th>Date</th>\n",
       "      <th>Price</th>\n",
       "    </tr>\n",
       "  </thead>\n",
       "  <tbody>\n",
       "    <tr>\n",
       "      <th>0</th>\n",
       "      <td>Jan 02 1990</td>\n",
       "      <td>7.27</td>\n",
       "    </tr>\n",
       "    <tr>\n",
       "      <th>1</th>\n",
       "      <td>Jan 03 1990</td>\n",
       "      <td>6.92</td>\n",
       "    </tr>\n",
       "    <tr>\n",
       "      <th>2</th>\n",
       "      <td>Jan 04 1990</td>\n",
       "      <td>6.50</td>\n",
       "    </tr>\n",
       "    <tr>\n",
       "      <th>3</th>\n",
       "      <td>Jan 05 1990</td>\n",
       "      <td>6.71</td>\n",
       "    </tr>\n",
       "    <tr>\n",
       "      <th>4</th>\n",
       "      <td>Jan 08 1990</td>\n",
       "      <td>6.71</td>\n",
       "    </tr>\n",
       "    <tr>\n",
       "      <th>...</th>\n",
       "      <td>...</td>\n",
       "      <td>...</td>\n",
       "    </tr>\n",
       "    <tr>\n",
       "      <th>8175</th>\n",
       "      <td>Dec 11 2023</td>\n",
       "      <td>2459.05</td>\n",
       "    </tr>\n",
       "    <tr>\n",
       "      <th>8176</th>\n",
       "      <td>Dec 12 2023</td>\n",
       "      <td>2423.95</td>\n",
       "    </tr>\n",
       "    <tr>\n",
       "      <th>8177</th>\n",
       "      <td>Dec 13 2023</td>\n",
       "      <td>2433.40</td>\n",
       "    </tr>\n",
       "    <tr>\n",
       "      <th>8178</th>\n",
       "      <td>Dec 14 2023</td>\n",
       "      <td>2464.50</td>\n",
       "    </tr>\n",
       "    <tr>\n",
       "      <th>8179</th>\n",
       "      <td>Dec 15 2023</td>\n",
       "      <td>2495.20</td>\n",
       "    </tr>\n",
       "  </tbody>\n",
       "</table>\n",
       "<p>8180 rows × 2 columns</p>\n",
       "</div>"
      ],
      "text/plain": [
       "             Date    Price\n",
       "0     Jan 02 1990     7.27\n",
       "1     Jan 03 1990     6.92\n",
       "2     Jan 04 1990     6.50\n",
       "3     Jan 05 1990     6.71\n",
       "4     Jan 08 1990     6.71\n",
       "...           ...      ...\n",
       "8175  Dec 11 2023  2459.05\n",
       "8176  Dec 12 2023  2423.95\n",
       "8177  Dec 13 2023  2433.40\n",
       "8178  Dec 14 2023  2464.50\n",
       "8179  Dec 15 2023  2495.20\n",
       "\n",
       "[8180 rows x 2 columns]"
      ]
     },
     "execution_count": 7,
     "metadata": {},
     "output_type": "execute_result"
    }
   ],
   "source": [
    "stock_data = stock_data.drop([' Open',' High',' Low',' Volume',' Change%'], axis=1)\n",
    "stock_data"
   ]
  },
  {
   "cell_type": "markdown",
   "id": "1e2c9f71-ccca-45ca-8b11-7936b2b2aefb",
   "metadata": {},
   "source": [
    "### 4.Data Pre-processing"
   ]
  },
  {
   "cell_type": "code",
   "execution_count": 8,
   "id": "7c33beec-13ba-4e95-8ced-9f21b9459b71",
   "metadata": {},
   "outputs": [],
   "source": [
    "stock_data.set_index(pd.to_datetime(stock_data['Date']), inplace=True)  # Set 'Date' as index\n",
    "stock_data.drop(columns=['Date'], inplace=True)  # Drop the 'Date' column"
   ]
  },
  {
   "cell_type": "code",
   "execution_count": 9,
   "id": "18fb5c8f-915e-4472-a568-98b94eb3d53f",
   "metadata": {},
   "outputs": [
    {
     "data": {
      "text/html": [
       "<div>\n",
       "<style scoped>\n",
       "    .dataframe tbody tr th:only-of-type {\n",
       "        vertical-align: middle;\n",
       "    }\n",
       "\n",
       "    .dataframe tbody tr th {\n",
       "        vertical-align: top;\n",
       "    }\n",
       "\n",
       "    .dataframe thead th {\n",
       "        text-align: right;\n",
       "    }\n",
       "</style>\n",
       "<table border=\"1\" class=\"dataframe\">\n",
       "  <thead>\n",
       "    <tr style=\"text-align: right;\">\n",
       "      <th></th>\n",
       "      <th>Price</th>\n",
       "    </tr>\n",
       "    <tr>\n",
       "      <th>Date</th>\n",
       "      <th></th>\n",
       "    </tr>\n",
       "  </thead>\n",
       "  <tbody>\n",
       "    <tr>\n",
       "      <th>1990-01-02</th>\n",
       "      <td>7.27</td>\n",
       "    </tr>\n",
       "    <tr>\n",
       "      <th>1990-01-03</th>\n",
       "      <td>6.92</td>\n",
       "    </tr>\n",
       "    <tr>\n",
       "      <th>1990-01-04</th>\n",
       "      <td>6.50</td>\n",
       "    </tr>\n",
       "    <tr>\n",
       "      <th>1990-01-05</th>\n",
       "      <td>6.71</td>\n",
       "    </tr>\n",
       "    <tr>\n",
       "      <th>1990-01-08</th>\n",
       "      <td>6.71</td>\n",
       "    </tr>\n",
       "    <tr>\n",
       "      <th>...</th>\n",
       "      <td>...</td>\n",
       "    </tr>\n",
       "    <tr>\n",
       "      <th>2023-12-11</th>\n",
       "      <td>2459.05</td>\n",
       "    </tr>\n",
       "    <tr>\n",
       "      <th>2023-12-12</th>\n",
       "      <td>2423.95</td>\n",
       "    </tr>\n",
       "    <tr>\n",
       "      <th>2023-12-13</th>\n",
       "      <td>2433.40</td>\n",
       "    </tr>\n",
       "    <tr>\n",
       "      <th>2023-12-14</th>\n",
       "      <td>2464.50</td>\n",
       "    </tr>\n",
       "    <tr>\n",
       "      <th>2023-12-15</th>\n",
       "      <td>2495.20</td>\n",
       "    </tr>\n",
       "  </tbody>\n",
       "</table>\n",
       "<p>8180 rows × 1 columns</p>\n",
       "</div>"
      ],
      "text/plain": [
       "              Price\n",
       "Date               \n",
       "1990-01-02     7.27\n",
       "1990-01-03     6.92\n",
       "1990-01-04     6.50\n",
       "1990-01-05     6.71\n",
       "1990-01-08     6.71\n",
       "...             ...\n",
       "2023-12-11  2459.05\n",
       "2023-12-12  2423.95\n",
       "2023-12-13  2433.40\n",
       "2023-12-14  2464.50\n",
       "2023-12-15  2495.20\n",
       "\n",
       "[8180 rows x 1 columns]"
      ]
     },
     "execution_count": 9,
     "metadata": {},
     "output_type": "execute_result"
    }
   ],
   "source": [
    "stock_data"
   ]
  },
  {
   "cell_type": "code",
   "execution_count": 10,
   "id": "583e821c-9c85-41ab-a707-69825661a852",
   "metadata": {},
   "outputs": [
    {
     "name": "stdout",
     "output_type": "stream",
     "text": [
      "              Price\n",
      "Date               \n",
      "1990-01-02     7.27\n",
      "1990-01-03     6.92\n",
      "1990-01-04     6.50\n",
      "1990-01-05     6.71\n",
      "1990-01-08     6.71\n",
      "...             ...\n",
      "2023-12-11  2459.05\n",
      "2023-12-12  2423.95\n",
      "2023-12-13  2433.40\n",
      "2023-12-14  2464.50\n",
      "2023-12-15  2495.20\n",
      "\n",
      "[8180 rows x 1 columns]\n"
     ]
    }
   ],
   "source": [
    "# Convert the index to datetime format\n",
    "stock_data.index = pd.to_datetime(stock_data.index, format='%b %d %Y')\n",
    "\n",
    "# Format the index as 'YYYY-MM-DD' string if needed\n",
    "stock_data.index = stock_data.index.strftime('%Y-%m-%d')\n",
    "\n",
    "# Display the updated DataFrame with the modified index\n",
    "print(stock_data)"
   ]
  },
  {
   "cell_type": "code",
   "execution_count": 11,
   "id": "392c4ba3-afa5-493b-a16e-9a0618d6561d",
   "metadata": {},
   "outputs": [],
   "source": [
    "stock_data = stock_data.rename(columns={' Price':'Price'})"
   ]
  },
  {
   "cell_type": "markdown",
   "id": "e1b85847-9c95-4a4b-a94c-573eec378ed6",
   "metadata": {},
   "source": [
    "### Plotting of close price"
   ]
  },
  {
   "cell_type": "code",
   "execution_count": 12,
   "id": "ea41d8cc-8ba2-4c04-a120-6640e3b7317d",
   "metadata": {},
   "outputs": [
    {
     "data": {
      "image/png": "[encoded data removed]",
      "text/plain": [
       "<Figure size 1000x600 with 1 Axes>"
      ]
     },
     "metadata": {},
     "output_type": "display_data"
    }
   ],
   "source": [
    "plt.figure(figsize=(10,6))\n",
    "plt.grid(True)\n",
    "plt.xlabel('Year')\n",
    "plt.ylabel('Close Prices')\n",
    "plt.plot(stock_data['Price'])\n",
    "plt.title('Reliance Stock closing price')\n",
    "plt.show()"
   ]
  },
  {
   "cell_type": "code",
   "execution_count": 13,
   "id": "32b01ec9-ec5e-493d-ac70-7bb5b7474dc1",
   "metadata": {},
   "outputs": [
    {
     "data": {
      "text/plain": [
       "<Axes: >"
      ]
     },
     "execution_count": 13,
     "metadata": {},
     "output_type": "execute_result"
    },
    {
     "data": {
      "image/png": "[encoded data removed]",
      "text/plain": [
       "<Figure size 640x480 with 1 Axes>"
      ]
     },
     "metadata": {},
     "output_type": "display_data"
    }
   ],
   "source": [
    "stock_data['Price'].hist()"
   ]
  },
  {
   "cell_type": "markdown",
   "id": "a7761982-4e9b-42df-8c4b-8b916118dfc1",
   "metadata": {},
   "source": [
    "### Distribution of the dataset"
   ]
  },
  {
   "cell_type": "code",
   "execution_count": 14,
   "id": "834809a2-85ee-4007-9de3-d4375f9880bd",
   "metadata": {},
   "outputs": [
    {
     "data": {
      "text/plain": [
       "<Axes: ylabel='Density'>"
      ]
     },
     "execution_count": 14,
     "metadata": {},
     "output_type": "execute_result"
    },
    {
     "data": {
      "image/png": "[encoded data removed]",
      "text/plain": [
       "<Figure size 640x480 with 1 Axes>"
      ]
     },
     "metadata": {},
     "output_type": "display_data"
    }
   ],
   "source": [
    "df_close = stock_data['Price']\n",
    "df_close.plot(kind='kde')"
   ]
  },
  {
   "cell_type": "code",
   "execution_count": 15,
   "id": "71e422e6-4823-4349-bb9d-adcec60145c2",
   "metadata": {},
   "outputs": [
    {
     "data": {
      "image/png": "[encoded data removed]",
      "text/plain": [
       "<Figure size 640x480 with 4 Axes>"
      ]
     },
     "metadata": {},
     "output_type": "display_data"
    }
   ],
   "source": [
    "dec=seasonal_decompose(stock_data.Price,period=350)\n",
    "dec.plot()\n",
    "plt.show()"
   ]
  },
  {
   "cell_type": "code",
   "execution_count": 16,
   "id": "0acd81a9-3ec3-4041-b78c-d0b45300d3a0",
   "metadata": {},
   "outputs": [
    {
     "data": {
      "text/plain": [
       "count    8180.000000\n",
       "mean      483.773132\n",
       "std       651.354380\n",
       "min         4.360000\n",
       "25%        33.980000\n",
       "50%       307.170000\n",
       "75%       483.885000\n",
       "max      2619.850000\n",
       "Name: Price, dtype: float64"
      ]
     },
     "execution_count": 16,
     "metadata": {},
     "output_type": "execute_result"
    }
   ],
   "source": [
    "stock_data['Price'].describe()"
   ]
  },
  {
   "cell_type": "code",
   "execution_count": 17,
   "id": "8d0adcb4-b226-4418-940c-bd7d86a61219",
   "metadata": {},
   "outputs": [
    {
     "name": "stdout",
     "output_type": "stream",
     "text": [
      "mean1=62.403694, mean2=905.142570\n",
      "variance1=5352.210775, variance2=487964.708788\n"
     ]
    }
   ],
   "source": [
    "X = stock_data.values\n",
    "split = round(len(X) / 2)\n",
    "X1, X2 = X[0:split], X[split:]\n",
    "mean1, mean2 = X1.mean(), X2.mean()\n",
    "var1, var2 = X1.var(), X2.var()\n",
    "print('mean1=%f, mean2=%f' % (mean1, mean2))\n",
    "print('variance1=%f, variance2=%f' % (var1, var2))"
   ]
  },
  {
   "cell_type": "markdown",
   "id": "83b9d1be-c79f-4260-8bf2-43c4d8813a9b",
   "metadata": {},
   "source": [
    "## Augmented Dickey fuller test.\n",
    "### To check Whether Data is Stationary or not"
   ]
  },
  {
   "cell_type": "code",
   "execution_count": 18,
   "id": "90e7d6a5-03b2-494b-8dfa-eda2cceb0fca",
   "metadata": {},
   "outputs": [],
   "source": [
    "def TestStationaryPlot(stock_data):\n",
    "    rol_mean = stock_data.rolling(window = 50, center = False).mean()\n",
    "    rol_std = stock_data.rolling(window = 50, center = False).std()\n",
    "    \n",
    "    plt.plot(stock_data, color = 'blue',label = 'Original Data')\n",
    "    plt.plot(rol_mean, color = 'red', label = 'Rolling Mean')\n",
    "    plt.plot(rol_std, color ='black', label = 'Rolling Std')\n",
    "    plt.xticks(fontsize = 10)\n",
    "    plt.yticks(fontsize = 10)\n",
    "    \n",
    "    plt.xlabel('Time in Years', fontsize = 10)\n",
    "    plt.ylabel('Closing Price', fontsize = 10)\n",
    "    plt.legend(loc='best', fontsize = 10)\n",
    "    plt.title('Rolling Mean & Standard Deviation', fontsize = 10)\n",
    "    plt.show(block= True)"
   ]
  },
  {
   "cell_type": "code",
   "execution_count": 19,
   "id": "748e04b8-754d-4d9b-acac-8d316e70a1c1",
   "metadata": {},
   "outputs": [
    {
     "data": {
      "image/png": "[encoded data removed]",
      "text/plain": [
       "<Figure size 640x480 with 1 Axes>"
      ]
     },
     "metadata": {},
     "output_type": "display_data"
    }
   ],
   "source": [
    "TestStationaryPlot(stock_data)"
   ]
  },
  {
   "cell_type": "code",
   "execution_count": 20,
   "id": "5e6a6ed2-e7a7-46fb-9be4-96b8ae228780",
   "metadata": {},
   "outputs": [],
   "source": [
    "# null Hypothesis : Data is stationary\n",
    "#alternate hypothesis : Data is not stationary\n",
    "def TestStationaryAdfuller(stock_data, cutoff=0.01):\n",
    "    stock_data_test = adfuller(stock_data, autolag='AIC')\n",
    "    stock_data_test_output = pd.Series(stock_data_test[0:4], index=['Test Statistic', 'p-value', 'Lags Used', 'Number of Observations Used'])\n",
    "\n",
    "    for key, value in stock_data_test[4].items():\n",
    "        stock_data_test_output[f'Critical Value ({key})'] = value\n",
    "    print(stock_data_test_output)\n",
    "\n",
    "    if stock_data_test[1] <= cutoff:\n",
    "        print(\"Failed to reject null hypothesis. Data is stationary\")\n",
    "    else:\n",
    "        print(\"Failed to accept null hypothesis. Data is non-stationary\")\n"
   ]
  },
  {
   "cell_type": "code",
   "execution_count": 21,
   "id": "10243f77-6900-46f5-8cdb-10fafecf297c",
   "metadata": {},
   "outputs": [
    {
     "name": "stdout",
     "output_type": "stream",
     "text": [
      "Test Statistic                    1.778975\n",
      "p-value                           0.998306\n",
      "Lags Used                        37.000000\n",
      "Number of Observations Used    8142.000000\n",
      "Critical Value (1%)              -3.431153\n",
      "Critical Value (5%)              -2.861895\n",
      "Critical Value (10%)             -2.566959\n",
      "dtype: float64\n",
      "Failed to accept null hypothesis. Data is non-stationary\n"
     ]
    }
   ],
   "source": [
    "TestStationaryAdfuller(stock_data)"
   ]
  },
  {
   "cell_type": "markdown",
   "id": "f4ef2d12-5555-4e4c-8f6b-8a07a2457f2f",
   "metadata": {},
   "source": [
    "## Transforming Data into Stationary"
   ]
  },
  {
   "cell_type": "markdown",
   "id": "f86b3f84-3bd9-4e0e-8b15-300055bf959e",
   "metadata": {},
   "source": [
    "### A) Moving Average Method"
   ]
  },
  {
   "cell_type": "code",
   "execution_count": 22,
   "id": "6d3f62cb-502c-4a9e-b993-6cb391eec191",
   "metadata": {},
   "outputs": [
    {
     "data": {
      "image/png": "[encoded data removed]",
      "text/plain": [
       "<Figure size 640x480 with 1 Axes>"
      ]
     },
     "metadata": {},
     "output_type": "display_data"
    }
   ],
   "source": [
    "moving_avg = stock_data.rolling(30).mean()\n",
    "plt.plot(stock_data)\n",
    "plt.plot(moving_avg, color='red')\n",
    "plt.xticks(fontsize = 10)\n",
    "plt.yticks(fontsize = 10)\n",
    "plt.xlabel('Time (years)', fontsize = 10)\n",
    "plt.ylabel('Reliance Stock Price  (in Rs.)', fontsize = 10)\n",
    "plt.title('Reliance Stock Price ', fontsize = 10)\n",
    "plt.show()"
   ]
  },
  {
   "cell_type": "code",
   "execution_count": 23,
   "id": "b6e790b9-1507-44d6-98b7-56128c11d266",
   "metadata": {},
   "outputs": [
    {
     "data": {
      "text/html": [
       "<div>\n",
       "<style scoped>\n",
       "    .dataframe tbody tr th:only-of-type {\n",
       "        vertical-align: middle;\n",
       "    }\n",
       "\n",
       "    .dataframe tbody tr th {\n",
       "        vertical-align: top;\n",
       "    }\n",
       "\n",
       "    .dataframe thead th {\n",
       "        text-align: right;\n",
       "    }\n",
       "</style>\n",
       "<table border=\"1\" class=\"dataframe\">\n",
       "  <thead>\n",
       "    <tr style=\"text-align: right;\">\n",
       "      <th></th>\n",
       "      <th>Price</th>\n",
       "    </tr>\n",
       "    <tr>\n",
       "      <th>Date</th>\n",
       "      <th></th>\n",
       "    </tr>\n",
       "  </thead>\n",
       "  <tbody>\n",
       "    <tr>\n",
       "      <th>1990-01-02</th>\n",
       "      <td>NaN</td>\n",
       "    </tr>\n",
       "    <tr>\n",
       "      <th>1990-01-03</th>\n",
       "      <td>NaN</td>\n",
       "    </tr>\n",
       "    <tr>\n",
       "      <th>1990-01-04</th>\n",
       "      <td>NaN</td>\n",
       "    </tr>\n",
       "    <tr>\n",
       "      <th>1990-01-05</th>\n",
       "      <td>NaN</td>\n",
       "    </tr>\n",
       "    <tr>\n",
       "      <th>1990-01-08</th>\n",
       "      <td>NaN</td>\n",
       "    </tr>\n",
       "    <tr>\n",
       "      <th>1990-01-09</th>\n",
       "      <td>NaN</td>\n",
       "    </tr>\n",
       "    <tr>\n",
       "      <th>1990-01-10</th>\n",
       "      <td>NaN</td>\n",
       "    </tr>\n",
       "    <tr>\n",
       "      <th>1990-01-11</th>\n",
       "      <td>NaN</td>\n",
       "    </tr>\n",
       "    <tr>\n",
       "      <th>1990-01-15</th>\n",
       "      <td>NaN</td>\n",
       "    </tr>\n",
       "    <tr>\n",
       "      <th>1990-01-16</th>\n",
       "      <td>NaN</td>\n",
       "    </tr>\n",
       "    <tr>\n",
       "      <th>1990-01-17</th>\n",
       "      <td>NaN</td>\n",
       "    </tr>\n",
       "    <tr>\n",
       "      <th>1990-01-18</th>\n",
       "      <td>NaN</td>\n",
       "    </tr>\n",
       "    <tr>\n",
       "      <th>1990-01-19</th>\n",
       "      <td>NaN</td>\n",
       "    </tr>\n",
       "    <tr>\n",
       "      <th>1990-01-22</th>\n",
       "      <td>NaN</td>\n",
       "    </tr>\n",
       "    <tr>\n",
       "      <th>1990-01-23</th>\n",
       "      <td>NaN</td>\n",
       "    </tr>\n",
       "  </tbody>\n",
       "</table>\n",
       "</div>"
      ],
      "text/plain": [
       "            Price\n",
       "Date             \n",
       "1990-01-02    NaN\n",
       "1990-01-03    NaN\n",
       "1990-01-04    NaN\n",
       "1990-01-05    NaN\n",
       "1990-01-08    NaN\n",
       "1990-01-09    NaN\n",
       "1990-01-10    NaN\n",
       "1990-01-11    NaN\n",
       "1990-01-15    NaN\n",
       "1990-01-16    NaN\n",
       "1990-01-17    NaN\n",
       "1990-01-18    NaN\n",
       "1990-01-19    NaN\n",
       "1990-01-22    NaN\n",
       "1990-01-23    NaN"
      ]
     },
     "execution_count": 23,
     "metadata": {},
     "output_type": "execute_result"
    }
   ],
   "source": [
    "moving_avg_diff = stock_data - moving_avg\n",
    "moving_avg_diff.head(15)"
   ]
  },
  {
   "cell_type": "code",
   "execution_count": null,
   "id": "f4bfba70-35df-415b-8c29-0b2172e48cdd",
   "metadata": {},
   "outputs": [],
   "source": [
    "moving_avg_diff.dropna(inplace=True)\n",
    "TestStationaryPlot(moving_avg_diff)"
   ]
  },
  {
   "cell_type": "code",
   "execution_count": null,
   "id": "b9670958-907d-4546-9b5a-a9ed320c9b0c",
   "metadata": {},
   "outputs": [],
   "source": [
    "TestStationaryAdfuller(moving_avg_diff)"
   ]
  },
  {
   "cell_type": "markdown",
   "id": "c6262bb9-ec1a-488c-9df0-3a0a0f71528f",
   "metadata": {},
   "source": [
    "## First Order Differencing"
   ]
  },
  {
   "cell_type": "code",
   "execution_count": null,
   "id": "05877fd5-71b0-48c1-8bb8-cf607bcc280f",
   "metadata": {},
   "outputs": [],
   "source": [
    "# Original Series\n",
    "plt.plot(stock_data)\n",
    "plt.title('Original Series')\n",
    "plt.show()\n",
    "\n",
    "# 1st Differencing\n",
    "stock_data_first_difference = stock_data.diff()\n",
    "plt.plot(stock_data_first_difference)\n",
    "plt.title('1st Order Differencing')\n",
    "plt.show()\n"
   ]
  },
  {
   "cell_type": "code",
   "execution_count": null,
   "id": "516c0490-8dc3-41ed-b661-0d88ceb22470",
   "metadata": {},
   "outputs": [],
   "source": [
    "stock_data_first_difference = stock_data - stock_data.shift(1)  \n",
    "TestStationaryPlot(stock_data_first_difference.dropna(inplace=False))"
   ]
  },
  {
   "cell_type": "code",
   "execution_count": null,
   "id": "c39da0de-ce27-43a7-ba63-30ea72f89d6d",
   "metadata": {},
   "outputs": [],
   "source": [
    "TestStationaryAdfuller(stock_data_first_difference.dropna(inplace=False))"
   ]
  },
  {
   "cell_type": "markdown",
   "id": "5f55f719-fdf0-4d76-9703-1102c3727184",
   "metadata": {},
   "source": [
    "### Trend & Seasonality Plot"
   ]
  },
  {
   "cell_type": "code",
   "execution_count": null,
   "id": "ee85ab40-0d9b-4776-a0fa-c27da2970df4",
   "metadata": {},
   "outputs": [],
   "source": [
    "decomposition = seasonal_decompose(stock_data,period=350,model=\"multiplicable\")\n",
    "\n",
    "trend = decomposition.trend\n",
    "seasonal = decomposition.seasonal\n",
    "residual = decomposition.resid\n",
    "\n",
    "plt.subplot(411)\n",
    "plt.plot(stock_data, label='Original')\n",
    "plt.legend(loc='best')\n",
    "plt.subplot(412)\n",
    "plt.plot(trend, label='Trend')\n",
    "plt.legend(loc='best')\n",
    "plt.subplot(413)\n",
    "plt.plot(seasonal,label='Seasonality')\n",
    "plt.legend(loc='best')\n",
    "plt.subplot(414)\n",
    "plt.plot(residual, label='Residuals')\n",
    "plt.legend(loc='best')\n",
    "plt.tight_layout()"
   ]
  },
  {
   "cell_type": "markdown",
   "id": "3f4aa660-5fc0-482b-98b8-351c7204265b",
   "metadata": {},
   "source": [
    "### Plotting\n",
    "### Auto Correlation Function (ACF) \n",
    "### Partial Auto Correaltion Function (PACF) \n",
    "### for p & q values"
   ]
  },
  {
   "cell_type": "code",
   "execution_count": null,
   "id": "477d434c-a891-412f-9dfa-c5910098a2fa",
   "metadata": {},
   "outputs": [],
   "source": [
    "fig = plt.figure(figsize=(12, 25))  # Adjusting the figure size to fit both plots\n",
    "ax1 = fig.add_subplot(211)\n",
    "fig = sm.graphics.tsa.plot_acf(stock_data_first_difference.dropna(inplace=False), lags=35, ax=ax1) \n",
    "ax1.set_title('Autocorrelation Function (ACF)')\n",
    "\n",
    "ax2 = fig.add_subplot(212)\n",
    "fig = sm.graphics.tsa.plot_pacf(stock_data_first_difference.dropna(inplace=False), lags=35, ax=ax2) \n",
    "ax2.set_title('Partial Autocorrelation Function (PACF)')\n",
    "\n",
    "plt.tight_layout()\n",
    "plt.show()"
   ]
  },
  {
   "cell_type": "markdown",
   "id": "ffd7649a-4c8b-45f1-8c4e-921ce1b2656b",
   "metadata": {},
   "source": [
    "### Splitting of Data in train & test"
   ]
  },
  {
   "cell_type": "code",
   "execution_count": null,
   "id": "69dc328b-d402-4835-bdde-b483d10d2376",
   "metadata": {},
   "outputs": [],
   "source": [
    "train_data = stock_data.iloc[:7447]\n",
    "test_data = stock_data.iloc[7447:8180]\n",
    "train_data"
   ]
  },
  {
   "cell_type": "code",
   "execution_count": null,
   "id": "a5d7f68a-6ba6-4a21-90d6-f4a41f7309de",
   "metadata": {},
   "outputs": [],
   "source": [
    "test_data"
   ]
  },
  {
   "cell_type": "markdown",
   "id": "14c836f7-db1f-49a0-b0df-56e8ec920634",
   "metadata": {},
   "source": [
    "### from First order Differencing we consider d=1 & from ACF & PACF plots we consider p=2,4 & q=1\n"
   ]
  },
  {
   "cell_type": "markdown",
   "id": "47accf9b-98dd-4bc5-a68c-61b49849b0d0",
   "metadata": {},
   "source": [
    "## Various ARIMA MODELs"
   ]
  },
  {
   "cell_type": "markdown",
   "id": "918bed43-398b-4fa9-9601-0d2a02e76c92",
   "metadata": {},
   "source": [
    "## ARIMA(2,1,1)"
   ]
  },
  {
   "cell_type": "code",
   "execution_count": null,
   "id": "db74e60a-8e22-498e-908b-90e3fa5fa3c7",
   "metadata": {},
   "outputs": [],
   "source": [
    "# Build Model\n",
    "model_arima = ARIMA(train_data,order = (2,1,1))\n",
    "model_arima = model_arima.fit()\n",
    "model_arima.summary()"
   ]
  },
  {
   "cell_type": "code",
   "execution_count": null,
   "id": "02ff02be-e4e4-4e9d-aa8f-42168cf259c5",
   "metadata": {},
   "outputs": [],
   "source": [
    "start = len(train_data)\n",
    "end = len(train_data)+len(test_data)-1\n",
    "pred_arima = model_arima.predict(start=start,end=end)\n",
    "pred_arima"
   ]
  },
  {
   "cell_type": "markdown",
   "id": "d992013f-7359-4890-82aa-d90f3309ba82",
   "metadata": {},
   "source": [
    "### Evaluate the model's performance using metrics like RMSE, MAPE, ME, and MAE."
   ]
  },
  {
   "cell_type": "code",
   "execution_count": null,
   "id": "2cbb514c-8974-4549-a3f4-346182fab32e",
   "metadata": {},
   "outputs": [],
   "source": [
    "def forecast_accuracy(forecast, actual):\n",
    "    mape = np.mean(np.abs(forecast - actual)/(actual))  # MAPE\n",
    "    me = np.mean(forecast - actual)             # ME\n",
    "    mae = np.mean(np.abs(forecast - actual))    # MAE\n",
    "    rmse = np.mean((forecast - actual)**2)**.5  # RMSE\n",
    "    return({'mape':mape, 'me':me, 'mae': mae, 'rmse':rmse})"
   ]
  },
  {
   "cell_type": "code",
   "execution_count": null,
   "id": "2d3a9472-90de-41e7-b788-08594efa8720",
   "metadata": {},
   "outputs": [],
   "source": [
    "ns_arima_acc = forecast_accuracy(pred_arima.values, test_data.values)\n",
    "ns_arima_acc"
   ]
  },
  {
   "cell_type": "code",
   "execution_count": null,
   "id": "134ca022-d7b9-417e-9c67-2790538e3384",
   "metadata": {},
   "outputs": [],
   "source": [
    "plt.figure(figsize=(12,5), dpi=100)\n",
    "plt.plot(train_data, label='training')\n",
    "plt.plot(test_data, label='actual')\n",
    "plt.plot(pred_arima, label='forecast')\n",
    "plt.title('Forecast vs Actuals')\n",
    "plt.legend(loc='upper left', fontsize=8)\n",
    "plt.show()"
   ]
  },
  {
   "cell_type": "code",
   "execution_count": null,
   "id": "1dd875c8-5e6e-42e6-9a3f-6e74003e883b",
   "metadata": {},
   "outputs": [],
   "source": [
    "# Plot\n",
    "plt.figure(figsize=(10,5), dpi=100)\n",
    "plt.plot(train_data, label='training data')\n",
    "plt.plot(test_data, label='Actual Stock Price')\n",
    "plt.plot(pred_arima, label='Predicted Stock Price')\n",
    "plt.title('Reliance Stock Price Prediction')\n",
    "plt.xlabel('Time')\n",
    "plt.ylabel('Reliance Stock Price')\n",
    "plt.legend(loc='upper left', fontsize=8)\n",
    "plt.show()"
   ]
  },
  {
   "cell_type": "markdown",
   "id": "826d2a8f-ee00-4f99-9a4e-435063167e09",
   "metadata": {},
   "source": [
    "# ARIMA(4,1,3)"
   ]
  },
  {
   "cell_type": "code",
   "execution_count": null,
   "id": "fdbb4377-63ac-4301-9309-2eef654e39fe",
   "metadata": {},
   "outputs": [],
   "source": [
    "Model_arima = ARIMA(train_data,order = (4,1,3))\n",
    "Model_arima = Model_arima.fit()\n",
    "Model_arima.summary()"
   ]
  },
  {
   "cell_type": "code",
   "execution_count": null,
   "id": "b4f01faf-d9d3-4550-a54a-24c13ff431de",
   "metadata": {},
   "outputs": [],
   "source": [
    "start = len(train_data)\n",
    "end = len(train_data)+len(test_data)-1\n",
    "Pred_arima = Model_arima.predict(start=start,end=end)\n",
    "print(Pred_arima)"
   ]
  },
  {
   "cell_type": "code",
   "execution_count": null,
   "id": "5bd1a44f-474c-46eb-ae08-d490e0013f93",
   "metadata": {},
   "outputs": [],
   "source": [
    "Ns_arima_acc = forecast_accuracy(Pred_arima.values, test_data.values)\n",
    "Ns_arima_acc"
   ]
  },
  {
   "cell_type": "code",
   "execution_count": null,
   "id": "4b8967a1-c39b-4f98-96bf-000336140236",
   "metadata": {},
   "outputs": [],
   "source": [
    "plt.figure(figsize=(12,5), dpi=100)\n",
    "plt.plot(train_data, label='training')\n",
    "plt.plot(test_data, label='actual')\n",
    "plt.plot(Pred_arima, label='forecast')\n",
    "plt.title('Forecast vs Actuals')\n",
    "plt.legend(loc='upper left', fontsize=8)\n",
    "plt.show()"
   ]
  },
  {
   "cell_type": "markdown",
   "id": "e1e1e3e2-a3a4-44d1-adee-fc694c9fc0a1",
   "metadata": {},
   "source": [
    "## Smoothing Technique Methods"
   ]
  },
  {
   "cell_type": "code",
   "execution_count": null,
   "id": "0200fb23-efbe-4f28-a3d8-ce437d303a28",
   "metadata": {},
   "outputs": [],
   "source": [
    "from statsmodels.tsa.holtwinters import SimpleExpSmoothing\n",
    "from statsmodels.tsa.holtwinters import Holt\n",
    "from statsmodels.tsa.holtwinters import ExponentialSmoothing"
   ]
  },
  {
   "cell_type": "markdown",
   "id": "575ad1cd-1789-4f21-8dea-57f806871197",
   "metadata": {},
   "source": [
    "### Additional Models and Comparison"
   ]
  },
  {
   "cell_type": "markdown",
   "id": "7d47e4f3-49df-43c2-b4f8-f48a5f9a4474",
   "metadata": {},
   "source": [
    "## Simple Exponential Smoothing "
   ]
  },
  {
   "cell_type": "code",
   "execution_count": null,
   "id": "af744cb0-b440-4172-8d8a-cd5c8f12a7ba",
   "metadata": {},
   "outputs": [],
   "source": [
    "SES = SimpleExpSmoothing(train_data).fit(smoothing_level = 0.2)"
   ]
  },
  {
   "cell_type": "code",
   "execution_count": null,
   "id": "09da904b-8931-4707-92e0-396402ba679b",
   "metadata": {},
   "outputs": [],
   "source": [
    "pred_ses = SES.predict(start = len(train_data),end = len(train_data)+len(test_data)-1)"
   ]
  },
  {
   "cell_type": "code",
   "execution_count": null,
   "id": "2572e563-afef-40de-b78f-917f5fdbb22a",
   "metadata": {},
   "outputs": [],
   "source": [
    "ns_ses_acc = forecast_accuracy(pred_ses.values,test_data.values)\n",
    "ns_ses_acc"
   ]
  },
  {
   "cell_type": "code",
   "execution_count": null,
   "id": "9338ba8d-334a-46fb-a39d-0b3f81c46026",
   "metadata": {},
   "outputs": [],
   "source": [
    "plt.figure(figsize=(12,5), dpi=100)\n",
    "plt.plot(train_data, label='training')\n",
    "plt.plot(test_data, label='actual')\n",
    "plt.plot(pred_ses, label='forecast')\n",
    "plt.title('Forecast vs Actuals')\n",
    "plt.legend(loc='upper left', fontsize=8)\n",
    "plt.show()"
   ]
  },
  {
   "cell_type": "markdown",
   "id": "5e4e6722-304c-47dd-9e5f-c9d66793d199",
   "metadata": {},
   "source": [
    "## Holt's Method"
   ]
  },
  {
   "cell_type": "code",
   "execution_count": null,
   "id": "d6d86764-8d20-47ea-9bb0-f9ca16d3d516",
   "metadata": {},
   "outputs": [],
   "source": [
    "HLT= Holt(train_data).fit(smoothing_level=0.8, smoothing_slope=0.2)"
   ]
  },
  {
   "cell_type": "code",
   "execution_count": null,
   "id": "9dbc189f-1938-4173-aa3c-eac3131576b9",
   "metadata": {},
   "outputs": [],
   "source": [
    "pred_holt = HLT.predict(start = len(train_data),end = len(train_data)+len(test_data)-1)"
   ]
  },
  {
   "cell_type": "code",
   "execution_count": null,
   "id": "f34774e0-3228-45e8-8e68-071ac6060cf0",
   "metadata": {},
   "outputs": [],
   "source": [
    "ns_hlt_acc = forecast_accuracy(pred_holt.values,test_data.values)\n",
    "ns_hlt_acc"
   ]
  },
  {
   "cell_type": "code",
   "execution_count": null,
   "id": "89b061f0-4354-47fc-8436-f8abad14a57d",
   "metadata": {},
   "outputs": [],
   "source": [
    "plt.figure(figsize=(12,5), dpi=100)\n",
    "plt.plot(train_data, label='training')\n",
    "plt.plot(test_data, label='actual')\n",
    "plt.plot(pred_holt, label='forecast')\n",
    "plt.title('Forecast vs Actuals')\n",
    "plt.legend(loc='upper left', fontsize=8)\n",
    "plt.show()"
   ]
  },
  {
   "cell_type": "markdown",
   "id": "812af984-f16d-4f22-acf9-2b71d4cc04ce",
   "metadata": {},
   "source": [
    "## Holt-Winter Method"
   ]
  },
  {
   "cell_type": "code",
   "execution_count": null,
   "id": "0e23b43b-568d-4550-a709-852cb97cc9c4",
   "metadata": {},
   "outputs": [],
   "source": [
    "HLW = ExponentialSmoothing(train_data,seasonal='add',trend='add',seasonal_periods=2).fit()"
   ]
  },
  {
   "cell_type": "code",
   "execution_count": null,
   "id": "118d9394-45b0-4302-91da-ff46f87735e8",
   "metadata": {},
   "outputs": [],
   "source": [
    "pred_hlw=HLW.predict(start = len(train_data),end = len(train_data)+len(test_data)-1)"
   ]
  },
  {
   "cell_type": "code",
   "execution_count": null,
   "id": "f797f450-c6af-43c9-a1d1-b675b579c2f3",
   "metadata": {},
   "outputs": [],
   "source": [
    "pred_hlw"
   ]
  },
  {
   "cell_type": "code",
   "execution_count": null,
   "id": "f3fc2678-1434-4ffc-8822-48988d42172c",
   "metadata": {},
   "outputs": [],
   "source": [
    "ns_hlw_acc = forecast_accuracy(pred_hlw.values,test_data.values)\n",
    "ns_hlw_acc"
   ]
  },
  {
   "cell_type": "code",
   "execution_count": null,
   "id": "511ccd99-e08a-45d6-93fc-60ec4e8004ff",
   "metadata": {},
   "outputs": [],
   "source": [
    "plt.figure(figsize=(12,5), dpi=100)\n",
    "plt.plot(train_data, label='training')\n",
    "plt.plot(test_data, label='actual')\n",
    "plt.plot(pred_hlw, label='forecast')\n",
    "plt.title('Forecast vs Actuals')\n",
    "plt.legend(loc='upper left', fontsize=8)\n",
    "plt.show()"
   ]
  },
  {
   "cell_type": "markdown",
   "id": "8de48424-d1b9-4ecd-9476-a9d92b791d05",
   "metadata": {},
   "source": [
    "## Modelwise Evaluation"
   ]
  },
  {
   "cell_type": "markdown",
   "id": "37af27db-8765-4de5-b2d1-58a6a2a0c44e",
   "metadata": {},
   "source": [
    "### Model Sorted by the RMSE values"
   ]
  },
  {
   "cell_type": "code",
   "execution_count": null,
   "id": "e5c80854-79b0-4591-8d70-087f711b49fb",
   "metadata": {},
   "outputs": [],
   "source": [
    "data = {\"MODEL\":pd.Series([\"ARIMA(2,1,1)\",\"ARIMA(4,1,3)\",\"Simple exponential smoothing\",\"Holt Method\",\"Holt-Winter Method\"]),\n",
    "\"RMSE_values\":pd.Series([ns_arima_acc[\"rmse\"],Ns_arima_acc[\"rmse\"],ns_ses_acc[\"rmse\"],ns_hlt_acc[\"rmse\"],ns_hlw_acc[\"rmse\"]]),\n",
    "\"MAPE_values\":pd.Series([ns_arima_acc[\"mape\"],Ns_arima_acc[\"mape\"],ns_ses_acc[\"mape\"],ns_hlt_acc[\"mape\"],ns_hlw_acc[\"mape\"]]),\n",
    "\"ME_values\":pd.Series([ns_arima_acc[\"me\"],Ns_arima_acc[\"me\"],ns_ses_acc[\"me\"],ns_hlt_acc[\"me\"],ns_hlw_acc[\"me\"]]),\n",
    "\"MAE_values\":pd.Series([ns_arima_acc[\"mae\"],Ns_arima_acc[\"mae\"],ns_ses_acc[\"mae\"],ns_hlt_acc[\"mae\"],ns_hlw_acc[\"mae\"]])}\n",
    "\n",
    "table_rmse=pd.DataFrame(data)\n",
    "table_rmse.sort_values(['RMSE_values'])"
   ]
  },
  {
   "cell_type": "markdown",
   "id": "7acd5b90-eca1-4f53-b185-b26ce7081402",
   "metadata": {},
   "source": [
    "### Model Sorted by the MAPE values"
   ]
  },
  {
   "cell_type": "code",
   "execution_count": null,
   "id": "a2697786-78b9-4831-85ea-706e8b5c6879",
   "metadata": {},
   "outputs": [],
   "source": [
    "tata = {\"MODEL\":pd.Series([\"ARIMA(2,1,1)\",\"ARIMA(4,1,3)\",\"Simple exponential smoothing\",\"Holt Method\",\"Holt-Winter Method\"]),\n",
    "\"RMSE_values\":pd.Series([ns_arima_acc[\"rmse\"],Ns_arima_acc[\"rmse\"],ns_ses_acc[\"rmse\"],ns_hlt_acc[\"rmse\"],ns_hlw_acc[\"rmse\"]]),\n",
    "\"MAPE_values\":pd.Series([ns_arima_acc[\"mape\"],Ns_arima_acc[\"mape\"],ns_ses_acc[\"mape\"],ns_hlt_acc[\"mape\"],ns_hlw_acc[\"mape\"]]),\n",
    "\"ME_values\":pd.Series([ns_arima_acc[\"me\"],Ns_arima_acc[\"me\"],ns_ses_acc[\"me\"],ns_hlt_acc[\"me\"],ns_hlw_acc[\"me\"]]),\n",
    "\"MAE_values\":pd.Series([ns_arima_acc[\"mae\"],Ns_arima_acc[\"mae\"],ns_ses_acc[\"mae\"],ns_hlt_acc[\"mae\"],ns_hlw_acc[\"mae\"]])}\n",
    "\n",
    "table_mape=pd.DataFrame(tata)\n",
    "table_mape.sort_values(['MAPE_values'])"
   ]
  },
  {
   "cell_type": "markdown",
   "id": "f9487686-638b-4a2d-8fde-2b20c6d9f534",
   "metadata": {},
   "source": [
    "## Final Model Selection"
   ]
  },
  {
   "cell_type": "code",
   "execution_count": null,
   "id": "4f108ec1-3457-4cdf-afce-00b361fbfc64",
   "metadata": {},
   "outputs": [],
   "source": [
    "HLW = ExponentialSmoothing(stock_data,seasonal='add',trend='add',seasonal_periods=2).fit()\n",
    "final_model = HLW\n",
    "final_model.summary()"
   ]
  },
  {
   "cell_type": "markdown",
   "id": "426a54a0-b7c1-4264-9923-33a74d2099f1",
   "metadata": {},
   "source": [
    "### Forecasting Beyond Available Data for next 1 year"
   ]
  },
  {
   "cell_type": "code",
   "execution_count": null,
   "id": "fe3be1f4-5a86-4ab8-b733-b98558f5b3b7",
   "metadata": {},
   "outputs": [],
   "source": [
    "future_stock_price=final_model.forecast(steps= 360)"
   ]
  },
  {
   "cell_type": "code",
   "execution_count": null,
   "id": "cdf290bc-fa4a-4898-8e8d-599732322caf",
   "metadata": {},
   "outputs": [],
   "source": [
    "#future_df"
   ]
  },
  {
   "cell_type": "code",
   "execution_count": null,
   "id": "446892c8-1fef-4f0b-8841-817a4643390f",
   "metadata": {},
   "outputs": [],
   "source": [
    "future_stock_price.info()"
   ]
  },
  {
   "cell_type": "markdown",
   "id": "86b5f463-0e09-499a-9e38-ac9877095c1b",
   "metadata": {},
   "source": [
    "### Plot of Stock data Actual value with Forcasted value for next 1 year"
   ]
  },
  {
   "cell_type": "code",
   "execution_count": null,
   "id": "49a9bcf2-5304-4b62-b1e1-9689b87bf06b",
   "metadata": {},
   "outputs": [],
   "source": [
    "plt.figure(figsize=(12, 5), dpi=100)\n",
    "plt.plot(stock_data, label='original')\n",
    "plt.plot(future_stock_price, label='forecast')\n",
    "plt.title('Forecast')\n",
    "plt.legend(loc='upper left', fontsize=8)\n",
    "plt.show()"
   ]
  },
  {
   "cell_type": "code",
   "execution_count": null,
   "id": "9d301b50-15d9-494f-9646-df84ac1a3978",
   "metadata": {},
   "outputs": [],
   "source": [
    "import pickle\n",
    "# Load the model from the file\n",
    "with open('Reliance_Stock.pkl', 'wb') as file:\n",
    "    pickle.dump(final_model, file)"
   ]
  },
  {
   "cell_type": "code",
   "execution_count": null,
   "id": "e96fe25c-0c6c-4786-8a16-4b8b3300a699",
   "metadata": {},
   "outputs": [],
   "source": [
    "final_model.forecast(steps=50)"
   ]
  },
  {
   "cell_type": "code",
   "execution_count": null,
   "id": "53d12836-0fe2-4cd1-a959-356f10d0274d",
   "metadata": {},
   "outputs": [],
   "source": []
  }
 ],
 "metadata": {
  "kernelspec": {
   "display_name": "Python 3 (ipykernel)",
   "language": "python",
   "name": "python3"
  },
  "language_info": {
   "codemirror_mode": {
    "name": "ipython",
    "version": 3
   },
   "file_extension": ".py",
   "mimetype": "text/x-python",
   "name": "python",
   "nbconvert_exporter": "python",
   "pygments_lexer": "ipython3",
   "version": "3.10.12"
  }
 },
 "nbformat": 4,
 "nbformat_minor": 5
}
